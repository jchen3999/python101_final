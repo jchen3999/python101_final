{
 "cells": [
  {
   "cell_type": "markdown",
   "metadata": {
    "pycharm": {
     "name": "#%% md\n"
    }
   },
   "source": [
    "# Introduction to Packages in Python\n",
    "In Python, a package is a way to organize related modules and provide a hierarchical structure to the code. It allows for better code organization, modularity, and reusability. A package is simply a directory (or a folder) that contains Python modules and an additional file called __init__.py. The __init__.py file marks the directory as a Python package.\n",
    "\n",
    "Packages are used to group related functionality together, making it easier to manage and reuse code. They enable you to organize your code into meaningful units, create namespaces, and avoid naming conflicts."
   ]
  },
  {
   "cell_type": "markdown",
   "metadata": {
    "pycharm": {
     "name": "#%% md\n"
    }
   },
   "source": [
    "\n",
    "### Exercise: Creating and Using a Simple Package\n",
    "\n",
    "Create a new directory ***under the folder where the running notebook is stored*** on your computer to serve as the package folder. Give it a meaningful name, such as \"my_package\".\n",
    "\n",
    "Inside the \"my_package\" folder, create a new Python file called my_module.py. This will be one of the modules within your package.\n",
    "\n",
    "Write some functions and/or a class inside the my_module.py file. These functions and/or class should provide some specific functionality that can be useful for other programs.\n",
    "\n",
    "In the same \"my_package\" folder, create another Python file called __init__.py. This file is required to mark the directory as a package.\n",
    "\n",
    "Now, you have your package set up. You can use it in a Jupyter notebook or any other Python script by importing it using the package name and module name."
   ]
  },
  {
   "cell_type": "markdown",
   "metadata": {
    "pycharm": {
     "name": "#%% md\n"
    }
   },
   "source": [
    "Example:\n",
    "\n",
    "Let's say your package \"my_package\" contains a module called my_module.py with the following functions:"
   ]
  },
  {
   "cell_type": "markdown",
   "metadata": {
    "pycharm": {
     "name": "#%% md\n"
    }
   },
   "source": [
    "```python\n",
    "# my_module.py\n",
    "\n",
    "def greet(name):\n",
    "    print(f\"Hello, {name}!\")\n",
    "\n",
    "def square(n):\n",
    "    return n * n\n",
    "```"
   ]
  },
  {
   "cell_type": "markdown",
   "metadata": {
    "pycharm": {
     "name": "#%% md\n"
    }
   },
   "source": [
    "To use this package and its module in a Jupyter notebook:\n",
    "\n",
    "Save the \"my_package\" folder in the same directory as your Jupyter notebook.\n",
    "\n",
    "In the notebook, import the package and module as follows:"
   ]
  },
  {
   "cell_type": "markdown",
   "metadata": {
    "pycharm": {
     "name": "#%% md\n"
    }
   },
   "source": [
    "```python\n",
    "from my_package import my_module\n",
    "\n",
    "my_module.greet(\"Alice\")  # Output: Hello, Alice!\n",
    "\n",
    "result = my_module.square(5)\n",
    "print(result)  # Output: 25\n",
    "```\n"
   ]
  },
  {
   "cell_type": "markdown",
   "metadata": {
    "pycharm": {
     "name": "#%% md\n"
    }
   },
   "source": [
    "- In Jupyter Notebook, the ! (exclamation mark) symbol is used to execute shell commands directly from a code cell. When you use ! followed by a command, Jupyter Notebook will treat it as a shell command and execute it in the underlying operating system.\n",
    "- You can use the `!pip install` command to install packages directly from the notebook itself. This command allows you to install Python packages that are not already available in your environment."
   ]
  },
  {
   "cell_type": "code",
   "execution_count": null,
   "metadata": {
    "pycharm": {
     "name": "#%%\n"
    }
   },
   "outputs": [],
   "source": [
    "!pip install numpy\n",
    "!pip install tqdm\n",
    "!pip install imageio\n",
    "!pip install Pillow # PIL\n",
    "!pip install matplotlib\n",
    "!pip install opencv-python # cv2"
   ]
  },
  {
   "cell_type": "markdown",
   "metadata": {
    "pycharm": {
     "name": "#%% md\n"
    }
   },
   "source": [
    "### Exercise: Download and Open Images from URL\n",
    "In this exercise, we will practice using packages to download and open images from a URL. We will also introduce the concept of image representation using the PIL (Python Imaging Library) and cv2 (OpenCV) packages. **With the help of ChatGPT**:\n",
    "\n",
    "1. First, use `urllib.request` to download an image from the provided URL: \"https://cdn.vox-cdn.com/uploads/chorus_image/image/47413330/the-simpsons-tv-series-cast-wallpaper-109911.0.0.jpeg\". Save the downloaded image to a local file.\n",
    "\n",
    "2. Next, use the `PIL.Image` package to display the downloaded image. `PIL.Image` provides a convenient way to open and manipulate images in Python.\n",
    "\n",
    "3. Then, use the `cv2.imread` function from the OpenCV package to load the downloaded image file. OpenCV is a powerful library for image processing and computer vision tasks. What is the format of the loaded image?\n",
    "\n",
    "4. Convert it from the cv2 format to a PIL image."
   ]
  },
  {
   "cell_type": "code",
   "execution_count": null,
   "metadata": {
    "pycharm": {
     "name": "#%%\n"
    }
   },
   "outputs": [],
   "source": [
    "import urllib.request\n",
    "from PIL import Image\n",
    "from IPython.display import display\n",
    "\n",
    "# Download and save the image from the URL\n",
    "# URL of the image\n",
    "image_url = \"https://cdn.vox-cdn.com/uploads/chorus_image/image/47413330/the-simpsons-tv-series-cast-wallpaper-109911.0.0.jpeg\"\n",
    "\n",
    "# Specify the local filename to save the image\n",
    "filename = \"image.jpg\"\n",
    "\n",
    "# Download the image; you can find it under the folder where the running notebook is stored  \n",
    "urllib.request.urlretrieve(image_url, filename)\n",
    "\n",
    "# Open the image using PIL.Image\n",
    "image = Image.open(filename)\n",
    "\n",
    "# Display the image within the Jupyter Notebook\n",
    "display(image)\n",
    "\n"
   ]
  },
  {
   "cell_type": "code",
   "execution_count": null,
   "metadata": {
    "pycharm": {
     "name": "#%%\n"
    }
   },
   "outputs": [],
   "source": [
    "import cv2\n",
    "# Load the downloaded image using cv2.imread\n",
    "image_cv2 = cv2.imread(filename)\n",
    "print(image_cv2)"
   ]
  },
  {
   "cell_type": "code",
   "execution_count": null,
   "metadata": {
    "pycharm": {
     "name": "#%%\n"
    }
   },
   "outputs": [],
   "source": [
    "# Convert the cv2 image to PIL image\n",
    "image_pil_converted = Image.fromarray(cv2.cvtColor(image_cv2, cv2.COLOR_BGR2RGB))\n",
    "display(image_pil_converted)"
   ]
  },
  {
   "cell_type": "markdown",
   "metadata": {
    "pycharm": {
     "name": "#%% md\n"
    }
   },
   "source": [
    "#### PIL (Python Imaging Library):\n",
    "- PIL is a popular library in Python for handling and manipulating images.\n",
    "- It provides a wide range of functions and methods to perform operations on images, such as opening, saving, resizing, cropping, and applying various filters and transformations.\n",
    "- PIL supports a variety of image file formats, including JPEG, PNG, GIF, BMP, and TIFF.\n",
    "- It is widely used for tasks like image processing, computer vision, generating thumbnails, and creating visualizations.\n",
    "\n",
    "\n",
    "#### cv2 (OpenCV):\n",
    "- OpenCV (Open Source Computer Vision) is a powerful open-source library for computer vision and image processing tasks.\n",
    "- It offers a comprehensive set of functions and tools for working with images, videos, and real-time computer vision applications.\n",
    "- OpenCV provides a wide range of capabilities, including image and video capturing, image filtering, feature detection, object recognition, and camera calibration.\n",
    "- It supports various programming languages, including Python, C++, and Java, making it highly versatile and widely used in both research and industry.\n"
   ]
  },
  {
   "cell_type": "markdown",
   "metadata": {
    "pycharm": {
     "name": "#%% md\n"
    }
   },
   "source": [
    "## Image Representation\n",
    "ref: \n",
    "- https://github.com/photosbyjeremy/img_qc_workshop/\n",
    "- https://ai.stanford.edu/~syyeung/cvweb/tutorial1.html\n",
    "\n",
    "### Pixels\n",
    "The pixel is the basic building block of the image and is defined by its intensity (think *value from dark to light*) and possibly its channel. The range of intensities can vary as can the number and type of channels.\n",
    "\n",
    "Bitonal, or black & white pixels, have two possible intensities: black and white. A grayscale image pixel's intensity varies with the bit-depth of the pixel.\n"
   ]
  },
  {
   "cell_type": "markdown",
   "metadata": {
    "pycharm": {
     "name": "#%% md\n"
    }
   },
   "source": [
    "### Bit Depth\n",
    "\n",
    "In an **8-bit grayscale** digital image, the intensity (think *value from dark to light*) of each pixel is defined by 8 individual bits.\n",
    "\n",
    "A bit can either be on, with a value of 1, or off, with a value of 0.\n",
    "\n",
    "We can find the total number of possible intensities by finding the total possible mathematical combinations for each bit of the pixel. This is done mathematically by raising the total **bit_possibilities** to the power of the number of **bits_per_pixel**.\n",
    "\n",
    "![](http://hosting.soonet.ca/eliris/remotesensing/LectureImages/pixel.gif)\n",
    "<img src=\"https://ai.stanford.edu/~syyeung/cvweb/Pictures1/colorpixels.png\" alt=\"image\" width=\"300\">\n"
   ]
  },
  {
   "cell_type": "code",
   "execution_count": null,
   "metadata": {
    "pycharm": {
     "name": "#%%\n"
    }
   },
   "outputs": [],
   "source": [
    "bit_possibilities, bits_per_pixel = 2, 8\n",
    "possible_intensities = bit_possibilities ** bits_per_pixel\n",
    "possible_intensities"
   ]
  },
  {
   "cell_type": "markdown",
   "metadata": {
    "pycharm": {
     "name": "#%% md\n"
    }
   },
   "source": [
    "### Color Channels\n",
    "\n",
    "Expanding our discussion to include 24-bit RGB color images, we first break the 24-bits per pixel down into individual color channels. Each 24-bit RGB color image pixel is made up of 3 * 8-bit color channels: Red (R), Green (G), and Blue (B).\n",
    "\n",
    "![RGB_exp_1](https://upload.wikimedia.org/wikipedia/commons/5/56/RGB_channels_separation.png)\n",
    "\n",
    "![RGB_exp_2](https://www.theclickreader.com/wp-content/uploads/2020/08/color-channels-RGB.jpg)\n",
    "\n",
    "To compute the total **possible_intensities** for a 24-bit RGB color image pixel first define the **bits_per_pixel** as **bits_per_channel** * **number_of_channels**.\n"
   ]
  },
  {
   "cell_type": "code",
   "execution_count": null,
   "metadata": {
    "pycharm": {
     "name": "#%%\n"
    }
   },
   "outputs": [],
   "source": [
    "bit_possibilities, bits_per_channel, number_of_channels = 2, 8, 3\n",
    "bits_per_pixel = bits_per_channel * number_of_channels  # 8 * 3\n",
    "bits_per_pixel"
   ]
  },
  {
   "cell_type": "code",
   "execution_count": null,
   "metadata": {
    "pycharm": {
     "name": "#%%\n"
    }
   },
   "outputs": [],
   "source": [
    "possible_intensities = bit_possibilities ** bits_per_pixel  # 2 ** 24\n",
    "\n",
    "possible_intensities"
   ]
  },
  {
   "cell_type": "markdown",
   "metadata": {
    "pycharm": {
     "name": "#%% md\n"
    }
   },
   "source": [
    "So with 3 channels of 256 **possible_intensities** there are 1.67 million possibilities for each pixel in a 24-bit RGB color image."
   ]
  },
  {
   "cell_type": "markdown",
   "metadata": {
    "pycharm": {
     "name": "#%% md\n"
    }
   },
   "source": [
    "### Basic Image Processing with PIL.Image\n",
    "read more [here](https://pillow.readthedocs.io/en/stable/handbook/tutorial.html)"
   ]
  },
  {
   "cell_type": "markdown",
   "metadata": {
    "pycharm": {
     "name": "#%% md\n"
    }
   },
   "source": [
    "#### Open Image Files\n",
    "\n",
    "`PIL.Image.open()`:\n",
    "\n",
    "- The PIL (Python Imaging Library) module provides a way to open and manipulate image files.\n",
    "- When we use the PIL.Image.open() function, we can load an image file and create a PIL Image object.\n",
    "- This object represents the image in memory and allows us to perform various operations on it."
   ]
  },
  {
   "cell_type": "code",
   "execution_count": null,
   "metadata": {
    "pycharm": {
     "name": "#%%\n"
    }
   },
   "outputs": [],
   "source": [
    "pil_img = Image.open('image.jpg')"
   ]
  },
  {
   "cell_type": "code",
   "execution_count": null,
   "metadata": {
    "pycharm": {
     "name": "#%%\n"
    }
   },
   "outputs": [],
   "source": [
    "# For an Image object, you can use instance attributes to examine the file contents:\n",
    "print(pil_img.format, pil_img.size, pil_img.mode)"
   ]
  },
  {
   "cell_type": "markdown",
   "metadata": {
    "pycharm": {
     "name": "#%% md\n"
    }
   },
   "source": [
    "#### Resize an image"
   ]
  },
  {
   "cell_type": "markdown",
   "metadata": {},
   "source": [
    "When resizing an image, there are different algorithms that can be used to determine how the image is transformed. Some common resize algorithms include:\n",
    "\n",
    "- Nearest-neighbor interpolation: This algorithm selects the nearest pixel to determine the new pixel value. It is a fast algorithm but may result in a loss of image quality, particularly when scaling down.\n",
    "\n",
    "- Bilinear interpolation: This algorithm calculates the new pixel value by taking a weighted average of the surrounding four pixels. It provides smoother results compared to nearest-neighbor interpolation.\n",
    "\n",
    "- Bicubic interpolation: This algorithm is an extension of bilinear interpolation, using a larger neighborhood of pixels to calculate the new pixel value. It produces smoother results and can preserve more details, but it may also introduce some blurring.***\n",
    "\n",
    "- When using the resize() method in PIL, you can specify the desired size of the output image as a tuple of width and height. Additionally, you can provide an optional resample parameter to choose the resize algorithm. By default, it uses a high-quality resampling algorithm called \"Lanczos\"."
   ]
  },
  {
   "cell_type": "code",
   "execution_count": null,
   "metadata": {
    "pycharm": {
     "name": "#%%\n"
    }
   },
   "outputs": [],
   "source": [
    "# Use the .resize() method to resize the image to a specific width and height or a scaling factor.\n",
    "default_resize = pil_img.resize((300,300))\n",
    "default_resize"
   ]
  },
  {
   "cell_type": "code",
   "execution_count": null,
   "metadata": {
    "pycharm": {
     "name": "#%%\n"
    }
   },
   "outputs": [],
   "source": [
    "nearest_resize = pil_img.resize((300,300), Image.NEAREST)\n",
    "nearest_resize"
   ]
  },
  {
   "cell_type": "markdown",
   "metadata": {
    "pycharm": {
     "name": "#%% md\n"
    }
   },
   "source": [
    "Matplotlib is a popular Python library used for creating visualizations and plots. It provides a wide range of tools and functions for generating various types of plots, such as line plots, scatter plots, bar plots, histograms, and more. Matplotlib is widely used in fields such as data analysis, scientific research, and data visualization."
   ]
  },
  {
   "cell_type": "code",
   "execution_count": null,
   "metadata": {
    "pycharm": {
     "name": "#%%\n"
    }
   },
   "outputs": [],
   "source": [
    "from matplotlib import pyplot as plt\n",
    "#This line imports the pyplot module from the matplotlib library, \n",
    "# which provides a convenient interface for creating and customizing plots and visualizations.\n",
    "fig, axs = plt.subplots(1, 2)\n",
    "# This line creates a figure (fig) and a set of subplots (axs) using the subplots() function from pyplot. \n",
    "# In this case, it creates a single row with two subplots arranged side by side.\n",
    "axs[0].imshow(default_resize)\n",
    "axs[1].imshow(nearest_resize)\n",
    "# These lines use the imshow() function to display images within the subplots.\n",
    "plt.show()\n",
    "# The show() function from pyplot is called to render the plot on the screen and make it visible to the user."
   ]
  },
  {
   "cell_type": "code",
   "execution_count": null,
   "metadata": {
    "pycharm": {
     "name": "#%%\n"
    }
   },
   "outputs": [],
   "source": [
    "# save figure object to local file\n",
    "fig.savefig('my_fig.jpg')"
   ]
  },
  {
   "cell_type": "code",
   "execution_count": null,
   "metadata": {
    "pycharm": {
     "name": "#%%\n"
    }
   },
   "outputs": [],
   "source": [
    "chess_board_img = Image.open('chess_board.png')\n",
    "chess_board_img"
   ]
  },
  {
   "cell_type": "code",
   "execution_count": null,
   "metadata": {
    "pycharm": {
     "name": "#%%\n"
    }
   },
   "outputs": [],
   "source": [
    "chess_board_img.resize((500,500))"
   ]
  },
  {
   "cell_type": "code",
   "execution_count": null,
   "metadata": {
    "pycharm": {
     "name": "#%%\n"
    }
   },
   "outputs": [],
   "source": [
    "chess_board_img.resize((500,500), Image.NEAREST)"
   ]
  },
  {
   "cell_type": "markdown",
   "metadata": {
    "pycharm": {
     "name": "#%% md\n"
    }
   },
   "source": [
    "#### Crop an image"
   ]
  },
  {
   "cell_type": "markdown",
   "metadata": {
    "pycharm": {
     "name": "#%% md\n"
    }
   },
   "source": [
    "Use the .crop() method to select and extract a specific region or area of interest from the image."
   ]
  },
  {
   "cell_type": "code",
   "execution_count": null,
   "metadata": {
    "pycharm": {
     "name": "#%%\n"
    }
   },
   "outputs": [],
   "source": [
    "pil_img.crop((0,100, 50,150)) # Example crop coordinates (left, upper, right, lower)"
   ]
  },
  {
   "cell_type": "markdown",
   "metadata": {
    "pycharm": {
     "name": "#%% md\n"
    }
   },
   "source": [
    "#### Rotate an image"
   ]
  },
  {
   "cell_type": "code",
   "execution_count": null,
   "metadata": {
    "pycharm": {
     "name": "#%%\n"
    }
   },
   "outputs": [],
   "source": [
    "# Use the .rotate() method to rotate the image by a specified angle in degrees.\n",
    "pil_img.rotate(-10)"
   ]
  },
  {
   "cell_type": "markdown",
   "metadata": {
    "pycharm": {
     "name": "#%% md\n"
    }
   },
   "source": [
    "#### Convert image formats"
   ]
  },
  {
   "cell_type": "code",
   "execution_count": null,
   "metadata": {
    "pycharm": {
     "name": "#%%\n"
    }
   },
   "outputs": [],
   "source": [
    "# Use the .convert() method to convert the image to a different color mode or file format.\n",
    "grey_image = pil_img.convert('L')\n",
    "print(grey_image.format, grey_image.size, grey_image.mode)\n",
    "grey_image"
   ]
  },
  {
   "cell_type": "code",
   "execution_count": null,
   "metadata": {
    "pycharm": {
     "name": "#%%\n"
    }
   },
   "outputs": [],
   "source": [
    "# you can use help() function or Shift+Tab if you want to know more about a method.\n",
    "help(pil_img.convert)"
   ]
  },
  {
   "cell_type": "markdown",
   "metadata": {},
   "source": [
    "**Image filtering**:\n",
    "\n",
    "Spatial image filtering, also known as convolution, is a fundamental technique used for various image processing tasks, such as blurring, sharpening, edge detection, and more. It involves applying a filter or a kernel to an image to perform local operations on each pixel.\n",
    "\n",
    "The filter, usually represented as a small matrix or kernel, is a set of weights that define how each pixel in the neighborhood contributes to the output. The size of the filter determines the spatial extent of the local operation.\n",
    "\n",
    "To apply the convolution operation, we start by placing the center of the filter on a pixel in the image. Then, for each pixel in the filter's neighborhood, we multiply the corresponding filter weight with the corresponding pixel value. These products are summed up, and the result becomes the new value of the pixel under the filter's center.\n",
    "\n",
    "We repeat this process for every pixel in the image, sliding the filter across the entire image and computing the new pixel values based on the filter weights and the pixel values in the neighborhood. This process effectively combines the information from nearby pixels to create the filtered output.\n",
    "\n",
    "The key idea behind convolution is that the filter's weights determine the type of operation being performed. For example, a blurring filter might have equal weights to average the pixel values, while an edge detection filter might have positive and negative weights to enhance edges.\n",
    "\n",
    "By applying different filters and adjusting their weights, we can achieve various image processing effects. Convolution is a powerful technique that allows us to manipulate and enhance images based on their local pixel neighborhoods, providing us with the ability to extract meaningful features and enhance image details\n",
    "![](https://theailearner.com/wp-content/uploads/2019/04/full_padding_no_strides.gif)\n",
    "![](https://ai.stanford.edu/~syyeung/cvweb/gifs/moving%20average.gif)"
   ]
  },
  {
   "cell_type": "markdown",
   "metadata": {
    "pycharm": {
     "name": "#%% md\n"
    }
   },
   "source": [
    "#### Apply image filters"
   ]
  },
  {
   "cell_type": "code",
   "execution_count": null,
   "metadata": {
    "pycharm": {
     "name": "#%%\n"
    }
   },
   "outputs": [],
   "source": [
    "from PIL import ImageFilter\n",
    "# The Box Blur filter is a simple blurring technique that applies a box-shaped kernel to the image. \n",
    "# It calculates the average value of the pixels within the kernel and replaces the center pixel with this average value. \n",
    "# This filter helps to reduce noise and smooth out the image.\n",
    "pil_img.filter(ImageFilter.BoxBlur(radius=5))"
   ]
  },
  {
   "cell_type": "code",
   "execution_count": null,
   "metadata": {
    "pycharm": {
     "name": "#%%\n"
    }
   },
   "outputs": [],
   "source": [
    "# The Gaussian Blur filter applies a Gaussian kernel to the image, \n",
    "# which gives a softer and more natural-looking blur compared to the Box Blur. \n",
    "# It uses a weighted average of nearby pixels, with more weight assigned to pixels closer to the center of the kernel. \n",
    "# This filter is effective in reducing noise and creating a gentle blur effect.\n",
    "pil_img.filter(ImageFilter.GaussianBlur(radius=5))\n",
    "# try to use a smaller radius"
   ]
  },
  {
   "cell_type": "code",
   "execution_count": null,
   "metadata": {
    "pycharm": {
     "name": "#%%\n"
    }
   },
   "outputs": [],
   "source": [
    "# The Edge Enhance More filter enhances the edges in an image, making them more pronounced and distinctive. \n",
    "# It achieves this by applying a specific convolution kernel that amplifies the differences in intensity between neighboring pixels. \n",
    "# This filter is useful for highlighting edges and details in an image.\n",
    "pil_img.filter(ImageFilter.EDGE_ENHANCE_MORE())"
   ]
  },
  {
   "cell_type": "markdown",
   "metadata": {
    "pycharm": {
     "name": "#%% md\n"
    }
   },
   "source": [
    "#### Save image\n",
    "To save an edited image, use .save() method"
   ]
  },
  {
   "cell_type": "code",
   "execution_count": null,
   "metadata": {
    "pycharm": {
     "name": "#%%\n"
    }
   },
   "outputs": [],
   "source": [
    "# note that the above operation are not inplace modification\n",
    "blurred_img = pil_img.filter(ImageFilter.GaussianBlur(5))\n",
    "blurred_img.save('blurred_image.jpg')"
   ]
  },
  {
   "cell_type": "code",
   "execution_count": null,
   "metadata": {
    "pycharm": {
     "name": "#%%\n"
    }
   },
   "outputs": [],
   "source": [
    "Image.open('blurred_image.jpg')"
   ]
  },
  {
   "cell_type": "markdown",
   "metadata": {
    "pycharm": {
     "name": "#%% md\n"
    }
   },
   "source": [
    "#### Exercise: Basic Image Processing and Display\n",
    "\n",
    "- Load an image of your choice using PIL.\n",
    "- Resize the image to a smaller size using the resize method.\n",
    "- Convert the resized image to grayscale using the convert method.\n",
    "- Apply a rotation of 45 degrees to the grayscale image using the rotate method.\n",
    "- Crop a specific region of interest from the rotated image using the crop method.\n",
    "- Display the original image, the resized image, the grayscale image, the rotated image, and the cropped image together using plt.subplot.\n",
    "\n",
    "\n",
    "- Hint:\n",
    "    - Use PIL.Image.open() to load the image.\n",
    "    - Use the resize method to resize the image.\n",
    "    - Use the convert method with the argument 'L' to convert the image to grayscale.\n",
    "    - Use the rotate method to rotate the image by a specified angle.\n",
    "    - Use the crop method to select and extract a specific region of interest.\n",
    "    - Use plt.subplot to create a grid of subplots and display the images."
   ]
  },
  {
   "cell_type": "code",
   "execution_count": null,
   "metadata": {
    "pycharm": {
     "name": "#%%\n"
    }
   },
   "outputs": [],
   "source": [
    "import PIL.Image as Image\n",
    "import matplotlib.pyplot as plt\n",
    "\n",
    "# 1. Load the image\n",
    "image = Image.open('image.jpg')\n",
    "\n",
    "# 2. Resize the image\n",
    "resized_image = image.resize((200, 200))\n",
    "\n",
    "# 3. Convert to grayscale\n",
    "grayscale_image = resized_image.convert('L')\n",
    "\n",
    "# 4. Rotate the image\n",
    "rotated_image = grayscale_image.rotate(45)\n",
    "\n",
    "# 5. Crop a region of interest\n",
    "crop_coords = (50, 50, 150, 150)  # Example crop coordinates (left, upper, right, lower)\n",
    "cropped_image = rotated_image.crop(crop_coords)\n",
    "\n",
    "# 6. Display the images together using subplots\n",
    "plt.figure(figsize=(10, 10))\n",
    "\n",
    "# Original image\n",
    "plt.subplot(2, 3, 1)\n",
    "plt.imshow(image)\n",
    "plt.title('Original Image')\n",
    "\n",
    "# Resized image\n",
    "plt.subplot(2, 3, 2)\n",
    "plt.imshow(resized_image)\n",
    "plt.title('Resized Image')\n",
    "\n",
    "# Grayscale image\n",
    "plt.subplot(2, 3, 3)\n",
    "plt.imshow(grayscale_image, cmap='gray')\n",
    "plt.title('Grayscale Image')\n",
    "\n",
    "# Rotated image\n",
    "plt.subplot(2, 3, 4)\n",
    "plt.imshow(rotated_image, cmap='gray')\n",
    "plt.title('Rotated Image')\n",
    "\n",
    "# Cropped image\n",
    "plt.subplot(2, 3, 5)\n",
    "plt.imshow(cropped_image, cmap='gray')\n",
    "plt.title('Cropped Image')\n",
    "\n",
    "#The plt.tight_layout() function is a utility function provided by Matplotlib that adjusts the spacing between subplots to ensure that the plot elements do not overlap with each other. It is typically used when multiple subplots are created within a single figure.\n",
    "plt.tight_layout()\n",
    "\n",
    "#This line displays the figure containing the subplots and the images.\n",
    "plt.show()\n"
   ]
  },
  {
   "cell_type": "markdown",
   "metadata": {
    "pycharm": {
     "name": "#%% md\n"
    }
   },
   "source": [
    "\n",
    "2. `cv2.imread()`:\n",
    "- The cv2 (OpenCV) library is widely used for computer vision and image processing tasks.\n",
    "- The cv2.imread() function allows us to read an image file and create a NumPy array representation of the image.\n",
    "- The NumPy array stores the pixel values of the image, allowing us to perform numerical operations and transformations on the image."
   ]
  },
  {
   "cell_type": "code",
   "execution_count": null,
   "metadata": {
    "pycharm": {
     "name": "#%%\n"
    }
   },
   "outputs": [],
   "source": [
    "image_array = cv2.imread('image.jpg')\n",
    "image_array.shape"
   ]
  },
  {
   "cell_type": "code",
   "execution_count": null,
   "metadata": {
    "pycharm": {
     "name": "#%%\n"
    }
   },
   "outputs": [],
   "source": [
    "# the color channel order differs between the two libraries.\n",
    "# In OpenCV (cv2), the default channel order is Blue-Green-Red (BGR), whereas in PIL (Python Imaging Library), the default channel order is Red-Green-Blue (RGB). Therefore, directly using Image.fromarray() on an array obtained from cv2.imread() will result in an image with incorrect color representation.\n",
    "Image.fromarray(image_array)"
   ]
  },
  {
   "cell_type": "code",
   "execution_count": null,
   "metadata": {
    "pycharm": {
     "name": "#%%\n"
    }
   },
   "outputs": [],
   "source": [
    "# here we define a function to convert image array to PIL image\n",
    "def convert_cv2_to_pil(image_array):\n",
    "    color_converted = cv2.cvtColor(image_array, cv2.COLOR_BGR2RGB)\n",
    "    pil_image=Image.fromarray(color_converted)\n",
    "    return pil_image"
   ]
  },
  {
   "cell_type": "code",
   "execution_count": null,
   "metadata": {
    "pycharm": {
     "name": "#%%\n"
    }
   },
   "outputs": [],
   "source": [
    "convert_cv2_to_pil(image_array)"
   ]
  },
  {
   "cell_type": "code",
   "execution_count": null,
   "metadata": {
    "pycharm": {
     "name": "#%%\n"
    }
   },
   "outputs": [],
   "source": [
    "# crop\n",
    "# the slice of the image array to be extracted. \n",
    "# In this case, it selects rows 80 to 149 (150-80) and columns 0 to 199 (200-0), \n",
    "# including all channels represented by : \n",
    "cropped_array = image_array[80:150,0:200,:]\n",
    "\n",
    "cropped = convert_cv2_to_pil(cropped_array)\n",
    "cropped"
   ]
  },
  {
   "cell_type": "code",
   "execution_count": null,
   "metadata": {
    "pycharm": {
     "name": "#%%\n"
    },
    "scrolled": true
   },
   "outputs": [],
   "source": [
    "# brightness\n",
    "# divides each pixel value in the image array by 2, \n",
    "# reducing the brightness of the image by half.\n",
    "convert_cv2_to_pil(image_array//2)"
   ]
  },
  {
   "cell_type": "code",
   "execution_count": null,
   "metadata": {
    "pycharm": {
     "name": "#%%\n"
    }
   },
   "outputs": [],
   "source": [
    "# color channel\n",
    "\n",
    "copied_image_array = image_array.copy()\n",
    "#  sets all values in the blue channel (index 0) to 0\n",
    "copied_image_array[:,:,0] = 0\n",
    "#  sets all values in the green channel (index 1) to 0\n",
    "copied_image_array[:,:,1] = 0\n",
    "red_channel = convert_cv2_to_pil(copied_image_array)\n",
    "\n",
    "\n",
    "copied_image_array = image_array.copy()\n",
    "copied_image_array[:,:,1] = 0\n",
    "copied_image_array[:,:,2] = 0\n",
    "blue_channel = convert_cv2_to_pil(copied_image_array)\n",
    "\n",
    "\n",
    "copied_image_array = image_array.copy()\n",
    "copied_image_array[:,:,0] = 0\n",
    "copied_image_array[:,:,2] = 0\n",
    "green_channel = convert_cv2_to_pil(copied_image_array)"
   ]
  },
  {
   "cell_type": "code",
   "execution_count": null,
   "metadata": {
    "pycharm": {
     "name": "#%%\n"
    }
   },
   "outputs": [],
   "source": [
    "fig, axs = plt.subplots(2, 2)\n",
    "axs[0, 0].imshow(red_channel)\n",
    "axs[0, 1].imshow(blue_channel)\n",
    "axs[1, 0].imshow(green_channel)\n",
    "axs[1, 1].imshow(image)\n",
    "plt.tight_layout()\n",
    "plt.show()"
   ]
  },
  {
   "cell_type": "markdown",
   "metadata": {
    "pycharm": {
     "name": "#%% md\n"
    }
   },
   "source": [
    "#### Mini Project:\n",
    "creating a sliding window to crop an image and then concatenating the cropped frames into a GIF-like short video:\n",
    "\n",
    "1. Load an input image:\n",
    "- Use the cv2.imread() function to read an input image from a file.\n",
    "\n",
    "2. Define the sliding window parameters:\n",
    "- Set the sliding window size and stride according to your desired configuration.\n",
    "\n",
    "3. Create the sliding window:\n",
    "- Using nested loops, iterate over the image pixels with the defined sliding window size and stride.\n",
    "- At each iteration, extract the sub-image within the sliding window boundaries.\n",
    "\n",
    "4. Concatenate the cropped frames into a GIF-like short video:\n",
    "- Create an empty list to store the cropped frames.\n",
    "- For each cropped frame, append it to the list of frames.\n",
    "\n",
    "5. Save the frames as a GIF file:\n",
    "- Use the imageio library to save the list of frames as a GIF file.\n"
   ]
  },
  {
   "cell_type": "code",
   "execution_count": null,
   "metadata": {
    "pycharm": {
     "name": "#%%\n"
    }
   },
   "outputs": [],
   "source": [
    "import cv2\n",
    "import imageio\n",
    "from tqdm import tqdm\n",
    "\n",
    "# Load the input image\n",
    "image = cv2.imread('image.jpg')\n",
    "image = cv2.cvtColor(image, cv2.COLOR_BGR2RGB)\n",
    "\n",
    "scale_percent = 20       # percent of original size\n",
    "width = int(image.shape[1] * scale_percent / 100)\n",
    "height = int(image.shape[0] * scale_percent / 100)\n",
    "dim = (width, height)\n",
    "image = cv2.resize(image, dim, interpolation = cv2.INTER_AREA)\n",
    "\n",
    "# Define the sliding window parameters (window size and stride)\n",
    "window_size = (image.shape[0], image.shape[0])\n",
    "stride = 1\n",
    "\n",
    "# Create an empty list to store the cropped frames\n",
    "frames = []\n",
    "\n",
    "# Create the sliding window\n",
    "# To use tqdm, you typically wrap your iterable with the tqdm function and iterate over it. \n",
    "# It will automatically generate a progress bar based on the length of the iterable.\n",
    "for x in tqdm(range(0, image.shape[1] - window_size[1] + 1, stride)):\n",
    "    # Crop the sub-image within the sliding window boundaries\n",
    "    cropped_frame = image[:, x:x+window_size[1]]\n",
    "\n",
    "    # Append the cropped frame to the list of frames\n",
    "    frames.append(cropped_frame)"
   ]
  },
  {
   "cell_type": "code",
   "execution_count": null,
   "metadata": {
    "pycharm": {
     "name": "#%%\n"
    }
   },
   "outputs": [],
   "source": [
    "# Save the frames as a GIF file\n",
    "imageio.mimsave('output.gif', frames, duration=169/60)"
   ]
  },
  {
   "cell_type": "markdown",
   "metadata": {
    "pycharm": {
     "name": "#%% md\n"
    }
   },
   "source": [
    "#### Mini Project\n",
    "\n",
    "1. Read the links from the input text file:\n",
    "- Open the input text file using the open() function.\n",
    "- Read the contents of the file using the readlines() method.\n",
    "- Store the links in a list.\n",
    "- Download the images:\n",
    "\n",
    "2. Iterate through the list of links.\n",
    "- Use a loop to download each image using a library like requests or urllib.\n",
    "- Handle exceptions using a try-except block to catch any errors that may occur during the download process.\n",
    "- If an exception is raised, log the error message to a log file.\n",
    "\n",
    "3. Create a log file:\n",
    "- Open a log file using the open() function with the appropriate mode.\n",
    "- Within the try-except block, write the error messages to the log file when an exception occurs."
   ]
  },
  {
   "cell_type": "code",
   "execution_count": null,
   "metadata": {
    "pycharm": {
     "name": "#%%\n"
    }
   },
   "outputs": [],
   "source": [
    "import requests\n",
    "\n",
    "# Read the links from the input text file\n",
    "with open('image_link.txt', 'r') as file:\n",
    "    links = file.readlines()\n",
    "\n",
    "# Remove any leading/trailing whitespace or newline characters from the links\n",
    "links = [link.strip() for link in links]\n",
    "\n",
    "# Download the images, save them as local files, and log any errors to a log file\n",
    "with open('log.txt', 'w') as log_file:\n",
    "    for i, link in enumerate(links):\n",
    "        try:\n",
    "            # Download the image using a library like requests or urllib\n",
    "            response = requests.get(link)\n",
    "\n",
    "            # Check the response status code (200 if the download is successful) to ensure successful download\n",
    "            if response.status_code == 200:\n",
    "                # Generate a unique filename based on the link index\n",
    "                filename = f'image_{i}.jpg'\n",
    "\n",
    "                # Save the image as a local file\n",
    "                with open(filename, 'wb') as image_file:\n",
    "                    \"\"\"\n",
    "                    'w': This mode stands for \"write mode\" and allows you to write data to the file. If the file already exists, it will be truncated (emptied) before writing the new data. If the file doesn't exist, a new file will be created.\n",
    "\n",
    "                    'b': This mode stands for \"binary mode\" and is used for working with binary files, such as image files. When working with binary data, it's important to open the file in binary mode to ensure that the data is read or written correctly without any unexpected conversions or modifications.\n",
    "                    \"\"\"\n",
    "                    image_file.write(response.content)\n",
    "\n",
    "                # Add success message to log file\n",
    "                log_file.write(f'Success: {link}\\n')\n",
    "            else:\n",
    "                # Add error message to log file if the download was unsuccessful\n",
    "                log_file.write(f'Error: {link} - Failed to download\\n')\n",
    "\n",
    "        except Exception as e:\n",
    "            # Add error message to log file if an exception occurred during download\n",
    "            log_file.write(f'Error: {link} - {str(e)}\\n')\n"
   ]
  },
  {
   "cell_type": "markdown",
   "metadata": {
    "pycharm": {
     "name": "#%% md\n"
    }
   },
   "source": [
    "#### Mini Project:\n",
    "Step 1: Import the necessary modules\n",
    "- Start by importing the required modules: random, time, and matplotlib.pyplot.\n",
    "\n",
    "Step 2: Define the sorting algorithms\n",
    "- Implement the bubble_sort() and insertion_sort() functions to perform bubble sort and insertion sort, respectively.\n",
    "    - [here](https://codepumpkin.com/wp-content/uploads/2017/10/BubbleSort_Avg_case.gif) is a visualization of bubble sort\n",
    "    \n",
    "    ![bubble sort](https://codepumpkin.com/wp-content/uploads/2017/10/BubbleSort_Avg_case.gif)\n",
    "    \n",
    "    - here is a visualization of insertion sort\n",
    "    \n",
    "    ![insertion sort](https://i.pinimg.com/originals/92/b0/34/92b034385c440e08bc8551c97df0a2e3.gif)\n",
    "\n",
    "\n",
    "Step 3: Initialize empty lists\n",
    "- Create empty lists named input_sizes, bubble_sort_runtimes, and insertion_sort_runtimes to store the input sizes and runtimes for both algorithms.\n",
    "\n",
    "Step 4: Set the maximum input size\n",
    "- Set the value of max_input_size to specify the maximum input size for the sorting algorithms.\n",
    "\n",
    "Step 5: Iterate over different input sizes\n",
    "- Use a loop to iterate over a range of input sizes, starting from a minimum value (e.g., 100) and incrementing by a step size (e.g., 100) up to the maximum input size.\n",
    "\n",
    "Step 6: Generate a random input dataset\n",
    "- Inside the loop, generate a random list of numbers using random.sample() as the input dataset. The size of the list should correspond to the current input size.\n",
    "\n",
    "Step 7: Measure the runtime of each sorting algorithm\n",
    "- Measure the runtime of bubble sort and insertion sort for the current input dataset using time.time().\n",
    "- Calculate the runtime by subtracting the start time from the end time.\n",
    "\n",
    "Step 8: Store the input size and runtime\n",
    "- Append the current input size to the input_sizes list.\n",
    "- Append the runtime of bubble sort and insertion sort to their respective runtime lists.\n",
    "\n",
    "Step 9: Plot the runtime data\n",
    "- Use matplotlib.pyplot to plot the runtime data.\n",
    "- Plot the runtime for bubble sort and insertion sort using the input_sizes list and the corresponding runtime lists.\n",
    "- Add appropriate labels for the x-axis, y-axis, and the title of the plot.\n",
    "- Include a legend to differentiate between the algorithms if necessary.\n",
    "\n",
    "Step 10: Display the plot\n",
    "- Call plt.show() to display the plot with the runtime data.\n"
   ]
  },
  {
   "cell_type": "code",
   "execution_count": null,
   "metadata": {
    "pycharm": {
     "name": "#%%\n"
    }
   },
   "outputs": [],
   "source": [
    "import random\n",
    "import time\n",
    "import matplotlib.pyplot as plt\n",
    "from tqdm import tqdm\n",
    "\n",
    "def bubble_sort(arr):\n",
    "    n = len(arr)\n",
    "    for i in range(n):\n",
    "        for j in range(n - i - 1):\n",
    "            if arr[j] > arr[j + 1]:\n",
    "                arr[j], arr[j + 1] = arr[j + 1], arr[j]\n",
    "\n",
    "def insertion_sort(arr):\n",
    "    for i in range(1, len(arr)):\n",
    "        key = arr[i]\n",
    "        j = i - 1\n",
    "        while j >= 0 and arr[j] > key:\n",
    "            arr[j + 1] = arr[j]\n",
    "            j -= 1\n",
    "        arr[j + 1] = key\n",
    "\n",
    "# Initialize empty lists to store the input sizes and runtimes for each algorithm\n",
    "input_sizes = []\n",
    "bubble_sort_runtimes = []\n",
    "insertion_sort_runtimes = []\n",
    "\n",
    "# Set the maximum input size\n",
    "max_input_size = 1000\n",
    "\n",
    "# Iterate over different input sizes\n",
    "for input_size in tqdm(range(100, max_input_size + 1, 100)):\n",
    "    # Generate a random list of numbers as the input dataset\n",
    "    data = list(range(input_size))\n",
    "    random.shuffle(data)\n",
    "\n",
    "    # Measure the runtime of bubble sort\n",
    "    bubble_sort_start_time = time.time()\n",
    "    bubble_sort(data.copy())\n",
    "    bubble_sort_end_time = time.time()\n",
    "    bubble_sort_runtime = bubble_sort_end_time - bubble_sort_start_time\n",
    "\n",
    "    # Measure the runtime of insertion sort\n",
    "    insertion_sort_start_time = time.time()\n",
    "    insertion_sort(data.copy())\n",
    "    insertion_sort_end_time = time.time()\n",
    "    insertion_sort_runtime = insertion_sort_end_time - insertion_sort_start_time\n",
    "\n",
    "    # Append the input size and runtimes to the lists\n",
    "    input_sizes.append(input_size)\n",
    "    bubble_sort_runtimes.append(bubble_sort_runtime)\n",
    "    insertion_sort_runtimes.append(insertion_sort_runtime)\n",
    "\n",
    "# Plot the runtime data for both algorithms\n",
    "plt.plot(input_sizes, bubble_sort_runtimes, label='Bubble Sort')\n",
    "plt.plot(input_sizes, insertion_sort_runtimes, label='Insertion Sort')\n",
    "plt.xlabel('Input Size')\n",
    "plt.ylabel('Runtime (seconds)')\n",
    "plt.title('Runtime Analysis: Bubble Sort vs Insertion Sort')\n",
    "plt.legend()\n",
    "plt.show()\n"
   ]
  },
  {
   "cell_type": "markdown",
   "metadata": {
    "pycharm": {
     "name": "#%% md\n"
    }
   },
   "source": [
    "# Writing Markdown in Jupyter Notebook"
   ]
  },
  {
   "cell_type": "markdown",
   "metadata": {
    "pycharm": {
     "name": "#%% md\n"
    }
   },
   "source": [
    "\n",
    "## Introduction\n",
    "\n",
    "Markdown is a lightweight and easy-to-use syntax for styling text on the web. It allows you to create formatted text using a plain text editor. Jupyter Notebooks have built-in support for displaying Markdown, which makes it a convenient platform for creating and sharing documents with formatted text, equations, images, and more."
   ]
  },
  {
   "cell_type": "markdown",
   "metadata": {
    "pycharm": {
     "name": "#%% md\n"
    }
   },
   "source": [
    "## Step 1: Creating a Markdown Cell\n",
    "\n",
    "To start writing Markdown in a Jupyter Notebook, you first need to create a Markdown cell.\n",
    "\n",
    "1. Open your Jupyter notebook.\n",
    "2. Click on the '+' button in the toolbar to create a new cell.\n",
    "3. By default, the cell will be a code cell. To change it to a Markdown cell, you can click on the dropdown menu in the toolbar and select 'Markdown', or you can use a keyboard shortcut: press 'Esc' to enter command mode, then press 'M'."
   ]
  },
  {
   "cell_type": "markdown",
   "metadata": {
    "pycharm": {
     "name": "#%% md\n"
    }
   },
   "source": [
    "## Step 2: Basic Formatting\n",
    "\n",
    "Now that you've created a Markdown cell, you can start writing Markdown. Here are some basic formatting options:\n",
    "\n",
    "- **Headers**: You can create headers using the '#' symbol. For example, '# Header 1' creates a level-1 header, '## Header 2' creates a level-2 header, and so on up to six levels.\n",
    "- **Bold text**: You can make text bold by wrapping it with two asterisks or two underscores. For example, '**bold**' or '**bold**'.\n",
    "- **Italic text**: You can make text italic by wrapping it with one asterisk or one underscore. For example, '*italic*' or '*italic*'."
   ]
  },
  {
   "cell_type": "markdown",
   "metadata": {
    "pycharm": {
     "name": "#%% md\n"
    }
   },
   "source": [
    "## Step 3: Lists\n",
    "\n",
    "Markdown supports both ordered and unordered lists.\n",
    "\n",
    "- For ordered lists, you can simply number your items. For example:\n",
    "\n",
    "1. Item 1\n",
    "2. Item 2\n",
    "3. Item 3\n",
    "\n",
    "- For unordered lists, you can use the '-' or '*' symbol. For example:\n",
    "\n",
    "- Item\n",
    "- Item\n",
    "- Item"
   ]
  },
  {
   "cell_type": "markdown",
   "metadata": {
    "pycharm": {
     "name": "#%% md\n"
    }
   },
   "source": [
    "## Step 4: Links and Images\n",
    "\n",
    "You can also add links and images to your Markdown cells.\n",
    "\n",
    "- To create a link, use the following syntax: `[Link Text](URL)`.\n",
    "- To add an image, use the following syntax: `![Alt Text](URL or path to image)`. The alt text will be displayed if the image cannot be loaded."
   ]
  },
  {
   "cell_type": "markdown",
   "metadata": {
    "pycharm": {
     "name": "#%% md\n"
    }
   },
   "source": [
    "## Step 5: Displaying Markdown\n",
    "\n",
    "Once you've written your Markdown, you can display the formatted text by running the cell. You can do this by clicking the 'Run' button in the toolbar, or by using the keyboard shortcut 'Shift + Enter'."
   ]
  },
  {
   "cell_type": "markdown",
   "metadata": {
    "pycharm": {
     "name": "#%% md\n"
    }
   },
   "source": [
    "## Step 6: Linking to Headers\n",
    "Markdown allows you to create links to specific headers within your document. This can be useful for creating a table of contents or for making your document easier to navigate.\n",
    "\n",
    "1. First, create a header. For example: `## My Header`.\n",
    "2. Then, to create a link to that header elsewhere in your document, use the following syntax: `[Link Text](#my-header)`. Notice that the header text in the link spaces are replaced with hyphens.\n",
    "\n",
    "[Here](#Writing-Markdown-in-Jupyter-Notebook) is an example."
   ]
  },
  {
   "cell_type": "markdown",
   "metadata": {
    "pycharm": {
     "name": "#%% md\n"
    }
   },
   "source": [
    "\n",
    "## Step 7: Creating Tables\n",
    "You can create tables in Markdown using a combination of pipes `|` and hyphens `-`. Here's an example:\n",
    "\n",
    "\n",
    "| Header 1 | Header 2 | Header 3 |\n",
    "| -------- | -------- | -------- |\n",
    "| Cell 1   | Cell 2   | Cell 3   |\n",
    "| Cell 4   | Cell 5   | Cell 6   |\n",
    "\n",
    "\n",
    "The first row defines the headers, the second row is a separator, and the remaining rows are the table's data."
   ]
  },
  {
   "cell_type": "markdown",
   "metadata": {
    "pycharm": {
     "name": "#%% md\n"
    }
   },
   "source": [
    "\n",
    "## Step 8: Quoting Text\n",
    "If you want to quote text, you can do so using the '>' symbol. For example:\n",
    "\n",
    "> This is a quote."
   ]
  },
  {
   "cell_type": "markdown",
   "metadata": {
    "pycharm": {
     "name": "#%% md\n"
    }
   },
   "source": [
    "## Step 9: Writing Mathematical Expressions\n",
    "Markdown in Jupyter Notebooks also supports LaTeX for mathematical expressions. You can write inline expressions like this: `$e=mc^2$`, or display equations on their own line like this:\n",
    "$$\n",
    "f(x) = x^2\n",
    "$$"
   ]
  },
  {
   "cell_type": "markdown",
   "metadata": {
    "pycharm": {
     "name": "#%% md\n"
    }
   },
   "source": [
    "## Step 10: Code Formatting\n",
    "You can include formatted code within your Markdown text.\n",
    "\n",
    "- For inline code, you can use single backticks: \\`inline code\\`.\n",
    "- For blocks of code, you can use triple backticks and optionally specify the programming language:\n",
    "\n",
    "\n",
    "```python\n",
    "def hello_world():\n",
    "    print(\"Hello, world!\")\n",
    "```"
   ]
  },
  {
   "cell_type": "markdown",
   "metadata": {
    "pycharm": {
     "name": "#%% md\n"
    }
   },
   "source": [
    "And there you go! With these tools, you should be able to create rich, well-formatted documents in Jupyter Notebook using Markdown. Happy writing!"
   ]
  },
  {
   "cell_type": "code",
   "execution_count": null,
   "metadata": {
    "pycharm": {
     "name": "#%%\n"
    }
   },
   "outputs": [],
   "source": []
  },
  {
   "cell_type": "markdown",
   "metadata": {
    "pycharm": {
     "name": "#%% md\n"
    }
   },
   "source": [
    "## Numpy\n",
    "- Python provides a vast ecosystem of packages and libraries that extend its capabilities and offer ready-to-use functionalities for various tasks.\n",
    "- Numpy is the core library for scientific computing in Python. It provides a high-performance multidimensional array object, and tools for working with these arrays. If you are already familiar with MATLAB, you might find this tutorial useful to get started with Numpy."
   ]
  },
  {
   "cell_type": "markdown",
   "metadata": {
    "pycharm": {
     "name": "#%% md\n"
    }
   },
   "source": [
    "### Installing NumPy\n",
    "- NumPy can be installed using a package manager like pip. Open a terminal or command prompt and run the following command: `pip install numpy`\n",
    "- Another way without using termial explicitly is to run this command in Jupyter `!pip install numpy`\n",
    "- In Jupyter Notebook, the ! (exclamation mark) symbol is used to execute shell commands directly from a code cell. When you use ! followed by a command, Jupyter Notebook will treat it as a shell command and execute it in the underlying operating system.\n",
    "- This will download and install the NumPy package on your system."
   ]
  },
  {
   "cell_type": "code",
   "execution_count": null,
   "metadata": {
    "pycharm": {
     "name": "#%%\n"
    }
   },
   "outputs": [],
   "source": [
    "# !pip install numpy"
   ]
  },
  {
   "cell_type": "markdown",
   "metadata": {
    "pycharm": {
     "name": "#%% md\n"
    }
   },
   "source": [
    "### Importing NumPy\n",
    "- To use Numpy, we first need to import the `numpy` package:"
   ]
  },
  {
   "cell_type": "code",
   "execution_count": null,
   "metadata": {
    "pycharm": {
     "name": "#%%\n"
    }
   },
   "outputs": [],
   "source": [
    "import numpy as np"
   ]
  },
  {
   "cell_type": "markdown",
   "metadata": {
    "pycharm": {
     "name": "#%% md\n"
    }
   },
   "source": [
    "- Once NumPy is installed, you can import it into your Python program using the import statement:\n",
    "- By convention, np is used as an alias for NumPy to make it easier to reference its functions and objects."
   ]
  },
  {
   "cell_type": "markdown",
   "metadata": {
    "pycharm": {
     "name": "#%% md\n"
    }
   },
   "source": [
    "### Arrays"
   ]
  },
  {
   "cell_type": "markdown",
   "metadata": {
    "pycharm": {
     "name": "#%% md\n"
    }
   },
   "source": [
    "A numpy array is a grid of values, all of the same type, and is indexed by a tuple of nonnegative integers. The number of dimensions is the rank of the array; the shape of an array is a tuple of integers giving the size of the array along each dimension."
   ]
  },
  {
   "cell_type": "markdown",
   "metadata": {
    "pycharm": {
     "name": "#%% md\n"
    }
   },
   "source": [
    "We can initialize numpy arrays from nested Python lists, and access elements using square brackets:"
   ]
  },
  {
   "cell_type": "code",
   "execution_count": null,
   "metadata": {
    "pycharm": {
     "name": "#%%\n"
    }
   },
   "outputs": [],
   "source": [
    "a = np.array([1, 2, 3])  # Create a rank 1 array\n",
    "print(type(a), a.shape, a[0], a[1], a[2])\n",
    "a[0] = 5                 # Change an element of the array\n",
    "print(a)"
   ]
  },
  {
   "cell_type": "code",
   "execution_count": null,
   "metadata": {
    "pycharm": {
     "name": "#%%\n"
    }
   },
   "outputs": [],
   "source": [
    "b = np.array([[1,2,3],[4,5,6]])   # Create a rank 2 array\n",
    "print(b)"
   ]
  },
  {
   "cell_type": "code",
   "execution_count": null,
   "metadata": {
    "pycharm": {
     "name": "#%%\n"
    }
   },
   "outputs": [],
   "source": [
    "c = np.array([[1,2,3],[4,5,6], [7]])   # Create a rank 2 array"
   ]
  },
  {
   "cell_type": "code",
   "execution_count": null,
   "metadata": {
    "pycharm": {
     "name": "#%%\n"
    }
   },
   "outputs": [],
   "source": [
    "print(b.shape)\n",
    "print(b[0, 0], b[0, 1], b[1, 0])"
   ]
  },
  {
   "cell_type": "code",
   "execution_count": null,
   "metadata": {
    "pycharm": {
     "name": "#%%\n"
    }
   },
   "outputs": [],
   "source": [
    "a = np.zeros((2,2))  # Create an array of all zeros\n",
    "print(a)"
   ]
  },
  {
   "cell_type": "code",
   "execution_count": null,
   "metadata": {
    "pycharm": {
     "name": "#%%\n"
    }
   },
   "outputs": [],
   "source": [
    "b = np.ones((1,2))   # Create an array of all ones\n",
    "print(b)"
   ]
  },
  {
   "cell_type": "code",
   "execution_count": null,
   "metadata": {
    "pycharm": {
     "name": "#%%\n"
    }
   },
   "outputs": [],
   "source": [
    "c = np.full((2,2), 7) # Create a constant array\n",
    "print(c)"
   ]
  },
  {
   "cell_type": "code",
   "execution_count": null,
   "metadata": {
    "pycharm": {
     "name": "#%%\n"
    }
   },
   "outputs": [],
   "source": [
    "d = np.eye(2)        # Create a 2x2 identity matrix\n",
    "print(d)"
   ]
  },
  {
   "cell_type": "code",
   "execution_count": null,
   "metadata": {
    "pycharm": {
     "name": "#%%\n"
    }
   },
   "outputs": [],
   "source": [
    "e = np.random.random((2,2)) # Create an array filled with random values\n",
    "print(e)"
   ]
  },
  {
   "cell_type": "markdown",
   "metadata": {
    "pycharm": {
     "name": "#%% md\n"
    }
   },
   "source": [
    "### Array indexing"
   ]
  },
  {
   "cell_type": "markdown",
   "metadata": {
    "pycharm": {
     "name": "#%% md\n"
    }
   },
   "source": [
    "Numpy offers several ways to index into arrays.\n",
    "Slicing: Similar to Python lists, numpy arrays can be sliced. Since arrays may be multidimensional, you must specify a slice for each dimension of the array:"
   ]
  },
  {
   "cell_type": "code",
   "execution_count": null,
   "metadata": {
    "pycharm": {
     "name": "#%%\n"
    }
   },
   "outputs": [],
   "source": [
    "import numpy as np\n",
    "\n",
    "# Create the following rank 2 array with shape (3, 4)\n",
    "# [[ 1  2  3  4]\n",
    "#  [ 5  6  7  8]\n",
    "#  [ 9 10 11 12]]\n",
    "a = np.array([[1,2,3,4], [5,6,7,8], [9,10,11,12]])\n",
    "\n",
    "# Use slicing to pull out the subarray consisting of the first 2 rows\n",
    "# and columns 1 and 2; b is the following array of shape (2, 2):\n",
    "# [[2 3]\n",
    "#  [6 7]]\n",
    "b = a[:2, 1:3]\n",
    "print(b)"
   ]
  },
  {
   "cell_type": "markdown",
   "metadata": {
    "pycharm": {
     "name": "#%% md\n"
    }
   },
   "source": [
    "A slice of an array is a view into the same data, so modifying it will modify the original array."
   ]
  },
  {
   "cell_type": "code",
   "execution_count": null,
   "metadata": {
    "pycharm": {
     "name": "#%%\n"
    }
   },
   "outputs": [],
   "source": [
    "print(a[0, 1])\n",
    "b[0, 0] = 77    # b[0, 0] is the same piece of data as a[0, 1]\n",
    "print(a[0, 1])"
   ]
  },
  {
   "cell_type": "markdown",
   "metadata": {
    "pycharm": {
     "name": "#%% md\n"
    }
   },
   "source": [
    "You can also mix integer indexing with slice indexing. However, doing so will yield an array of lower rank than the original array. Note that this is quite different from the way that MATLAB handles array slicing:"
   ]
  },
  {
   "cell_type": "code",
   "execution_count": null,
   "metadata": {
    "pycharm": {
     "name": "#%%\n"
    }
   },
   "outputs": [],
   "source": [
    "# Create the following rank 2 array with shape (3, 4)\n",
    "a = np.array([[1,2,3,4], [5,6,7,8], [9,10,11,12]])\n",
    "print(a)"
   ]
  },
  {
   "cell_type": "markdown",
   "metadata": {
    "pycharm": {
     "name": "#%% md\n"
    }
   },
   "source": [
    "Two ways of accessing the data in the middle row of the array.\n",
    "Mixing integer indexing with slices yields an array of lower rank,\n",
    "while using only slices yields an array of the same rank as the\n",
    "original array:"
   ]
  },
  {
   "cell_type": "code",
   "execution_count": null,
   "metadata": {
    "pycharm": {
     "name": "#%%\n"
    }
   },
   "outputs": [],
   "source": [
    "row_r1 = a[1, :]    # Rank 1 view of the second row of a\n",
    "row_r2 = a[1:2, :]  # Rank 2 view of the second row of a\n",
    "row_r3 = a[[1], :]  # Rank 2 view of the second row of a\n",
    "print(row_r1, row_r1.shape)\n",
    "print(row_r2, row_r2.shape)\n",
    "print(row_r3, row_r3.shape)"
   ]
  },
  {
   "cell_type": "code",
   "execution_count": null,
   "metadata": {
    "pycharm": {
     "name": "#%%\n"
    }
   },
   "outputs": [],
   "source": [
    "# We can make the same distinction when accessing columns of an array:\n",
    "col_r1 = a[:, 1]\n",
    "col_r2 = a[:, 1:2]\n",
    "print(col_r1, col_r1.shape)\n",
    "print()\n",
    "print(col_r2, col_r2.shape)"
   ]
  },
  {
   "cell_type": "markdown",
   "metadata": {
    "pycharm": {
     "name": "#%% md\n"
    }
   },
   "source": [
    "Integer array indexing: When you index into numpy arrays using slicing, the resulting array view will always be a subarray of the original array. In contrast, integer array indexing allows you to construct arbitrary arrays using the data from another array. Here is an example:"
   ]
  },
  {
   "cell_type": "code",
   "execution_count": null,
   "metadata": {
    "pycharm": {
     "name": "#%%\n"
    }
   },
   "outputs": [],
   "source": [
    "a = np.array([[1,2], [3, 4], [5, 6]])\n",
    "\n",
    "# An example of integer array indexing.\n",
    "# The returned array will have shape (3,) and\n",
    "print(a[[0, 1, 2], [0, 1, 0]])\n",
    "\n",
    "# The above example of integer array indexing is equivalent to this:\n",
    "print(np.array([a[0, 0], a[1, 1], a[2, 0]]))"
   ]
  },
  {
   "cell_type": "code",
   "execution_count": null,
   "metadata": {
    "pycharm": {
     "name": "#%%\n"
    }
   },
   "outputs": [],
   "source": [
    "# When using integer array indexing, you can reuse the same\n",
    "# element from the source array:\n",
    "print(a[[0, 0], [1, 1]])\n",
    "\n",
    "# Equivalent to the previous integer array indexing example\n",
    "print(np.array([a[0, 1], a[0, 1]]))"
   ]
  },
  {
   "cell_type": "code",
   "execution_count": null,
   "metadata": {
    "pycharm": {
     "name": "#%%\n"
    }
   },
   "outputs": [],
   "source": [
    "# Create a new array from which we will select elements\n",
    "a = np.array([[1,2,3], [4,5,6], [7,8,9], [10, 11, 12]])\n",
    "print(a)\n",
    "\n",
    "# Create an array of indices\n",
    "b = np.array([0, 2, 0, 1])\n",
    "\n",
    "# Select one element from each row of a using the indices in b\n",
    "print(a[np.arange(4), b])  # Prints \"[ 1  6  7 11]\""
   ]
  },
  {
   "cell_type": "code",
   "execution_count": null,
   "metadata": {
    "pycharm": {
     "name": "#%%\n"
    }
   },
   "outputs": [],
   "source": [
    "# Mutate one element from each row of a using the indices in b\n",
    "a[np.arange(4), b] += 10\n",
    "print(a)"
   ]
  },
  {
   "cell_type": "markdown",
   "metadata": {
    "pycharm": {
     "name": "#%% md\n"
    }
   },
   "source": [
    "Boolean array indexing: Boolean array indexing lets you pick out arbitrary elements of an array. Frequently this type of indexing is used to select the elements of an array that satisfy some condition. Here is an example:"
   ]
  },
  {
   "cell_type": "code",
   "execution_count": null,
   "metadata": {
    "pycharm": {
     "name": "#%%\n"
    }
   },
   "outputs": [],
   "source": [
    "a = np.array([[1,2], [3, 4], [5, 6]])\n",
    "\n",
    "bool_idx = (a > 2)  # Find the elements of a that are bigger than 2;\n",
    "                    # this returns a numpy array of Booleans of the same\n",
    "                    # shape as a, where each slot of bool_idx tells\n",
    "                    # whether that element of a is > 2.\n",
    "\n",
    "print(bool_idx)"
   ]
  },
  {
   "cell_type": "code",
   "execution_count": null,
   "metadata": {
    "pycharm": {
     "name": "#%%\n"
    }
   },
   "outputs": [],
   "source": [
    "# We use boolean array indexing to construct a rank 1 array\n",
    "# consisting of the elements of a corresponding to the True values\n",
    "# of bool_idx\n",
    "print(a[bool_idx])\n",
    "print('-----------')\n",
    "# We can do all of the above in a single concise statement:\n",
    "print(a[a > 2])"
   ]
  },
  {
   "cell_type": "markdown",
   "metadata": {
    "pycharm": {
     "name": "#%% md\n"
    }
   },
   "source": [
    "### Datatypes\n",
    "Every numpy array is a grid of elements of the same type. Numpy provides a large set of numeric datatypes that you can use to construct arrays. Numpy tries to guess a datatype when you create an array, but functions that construct arrays usually also include an optional argument to explicitly specify the datatype. Here is an example:"
   ]
  },
  {
   "cell_type": "code",
   "execution_count": null,
   "metadata": {
    "pycharm": {
     "name": "#%%\n"
    }
   },
   "outputs": [],
   "source": [
    "x = np.array([1, 2])  # Let numpy choose the datatype\n",
    "y = np.array([1.0, 2.0])  # Let numpy choose the datatype\n",
    "z = np.array([1, 2], dtype=np.int64)  # Force a particular datatype\n",
    "\n",
    "print(x.dtype, y.dtype, z.dtype)"
   ]
  },
  {
   "cell_type": "markdown",
   "metadata": {
    "pycharm": {
     "name": "#%% md\n"
    }
   },
   "source": [
    "You can read all about numpy datatypes in the [documentation](http://docs.scipy.org/doc/numpy/reference/arrays.dtypes.html)."
   ]
  },
  {
   "cell_type": "markdown",
   "metadata": {
    "pycharm": {
     "name": "#%% md\n"
    }
   },
   "source": [
    "### Array math"
   ]
  },
  {
   "cell_type": "markdown",
   "metadata": {
    "pycharm": {
     "name": "#%% md\n"
    }
   },
   "source": [
    "Basic mathematical functions operate elementwise on arrays, and are available both as operator overloads and as functions in the numpy module:"
   ]
  },
  {
   "cell_type": "code",
   "execution_count": null,
   "metadata": {
    "pycharm": {
     "name": "#%%\n"
    }
   },
   "outputs": [],
   "source": [
    "x = np.array([[1,2],[3,4]], dtype=np.float64)\n",
    "y = np.array([[5,6],[7,8]], dtype=np.float64)\n",
    "\n",
    "# Elementwise sum; both produce the array\n",
    "print(x + y)\n",
    "print(np.add(x, y))"
   ]
  },
  {
   "cell_type": "code",
   "execution_count": null,
   "metadata": {
    "pycharm": {
     "name": "#%%\n"
    }
   },
   "outputs": [],
   "source": [
    "# Elementwise difference; both produce the array\n",
    "print(x - y)\n",
    "print(np.subtract(x, y))"
   ]
  },
  {
   "cell_type": "code",
   "execution_count": null,
   "metadata": {
    "pycharm": {
     "name": "#%%\n"
    }
   },
   "outputs": [],
   "source": [
    "# Elementwise product; both produce the array\n",
    "print(x * y)\n",
    "print(np.multiply(x, y))"
   ]
  },
  {
   "cell_type": "code",
   "execution_count": null,
   "metadata": {
    "pycharm": {
     "name": "#%%\n"
    }
   },
   "outputs": [],
   "source": [
    "# Elementwise division; both produce the array\n",
    "# [[ 0.2         0.33333333]\n",
    "#  [ 0.42857143  0.5       ]]\n",
    "print(x / y)\n",
    "print(np.divide(x, y))"
   ]
  },
  {
   "cell_type": "code",
   "execution_count": null,
   "metadata": {
    "pycharm": {
     "name": "#%%\n"
    }
   },
   "outputs": [],
   "source": [
    "# Elementwise square root; produces the array\n",
    "# [[ 1.          1.41421356]\n",
    "#  [ 1.73205081  2.        ]]\n",
    "print(np.sqrt(x))"
   ]
  },
  {
   "cell_type": "markdown",
   "metadata": {
    "pycharm": {
     "name": "#%% md\n"
    }
   },
   "source": [
    "Note that unlike MATLAB, `*` is elementwise multiplication, not matrix multiplication. We instead use the dot function to compute inner products of vectors, to multiply a vector by a matrix, and to multiply matrices. dot is available both as a function in the numpy module and as an instance method of array objects:"
   ]
  },
  {
   "cell_type": "code",
   "execution_count": null,
   "metadata": {
    "pycharm": {
     "name": "#%%\n"
    }
   },
   "outputs": [],
   "source": [
    "x = np.array([[1,2],[3,4]])\n",
    "y = np.array([[5,6],[7,8]])\n",
    "\n",
    "v = np.array([9,10])\n",
    "w = np.array([11, 12])\n",
    "\n",
    "# Inner product of vectors; both produce 219\n",
    "print(v.dot(w))\n",
    "print(np.dot(v, w))"
   ]
  },
  {
   "cell_type": "markdown",
   "metadata": {
    "pycharm": {
     "name": "#%% md\n"
    }
   },
   "source": [
    "You can also use the `@` operator which is equivalent to numpy's `dot` operator.\n"
   ]
  },
  {
   "cell_type": "code",
   "execution_count": null,
   "metadata": {
    "pycharm": {
     "name": "#%%\n"
    }
   },
   "outputs": [],
   "source": [
    "print(v @ w)"
   ]
  },
  {
   "cell_type": "code",
   "execution_count": null,
   "metadata": {
    "pycharm": {
     "name": "#%%\n"
    }
   },
   "outputs": [],
   "source": [
    "# Matrix / vector product; both produce the rank 1 array [29 67]\n",
    "print(x.dot(v))\n",
    "print(np.dot(x, v))\n",
    "print(x @ v)"
   ]
  },
  {
   "cell_type": "code",
   "execution_count": null,
   "metadata": {
    "pycharm": {
     "name": "#%%\n"
    }
   },
   "outputs": [],
   "source": [
    "# Matrix / matrix product; both produce the rank 2 array\n",
    "# [[19 22]\n",
    "#  [43 50]]\n",
    "print(x.dot(y))\n",
    "print(np.dot(x, y))\n",
    "print(x @ y)"
   ]
  },
  {
   "cell_type": "markdown",
   "metadata": {
    "pycharm": {
     "name": "#%% md\n"
    }
   },
   "source": [
    "Numpy provides many useful functions for performing computations on arrays; one of the most useful is `sum`:"
   ]
  },
  {
   "cell_type": "code",
   "execution_count": null,
   "metadata": {
    "pycharm": {
     "name": "#%%\n"
    }
   },
   "outputs": [],
   "source": [
    "x = np.array([[1,2],[3,4]])\n",
    "\n",
    "print(np.sum(x))  # Compute sum of all elements; prints \"10\"\n",
    "print(np.sum(x, axis=0))  # Compute sum of each column; prints \"[4 6]\"\n",
    "print(np.sum(x, axis=1))  # Compute sum of each row; prints \"[3 7]\""
   ]
  },
  {
   "cell_type": "markdown",
   "metadata": {
    "pycharm": {
     "name": "#%% md\n"
    }
   },
   "source": [
    "You can find the full list of mathematical functions provided by numpy in the [documentation](http://docs.scipy.org/doc/numpy/reference/routines.math.html).\n",
    "\n",
    "Apart from computing mathematical functions using arrays, we frequently need to reshape or otherwise manipulate data in arrays. The simplest example of this type of operation is transposing a matrix; to transpose a matrix, simply use the T attribute of an array object:"
   ]
  },
  {
   "cell_type": "code",
   "execution_count": null,
   "metadata": {
    "pycharm": {
     "name": "#%%\n"
    }
   },
   "outputs": [],
   "source": [
    "print(x)\n",
    "print(\"transpose\\n\", x.T)"
   ]
  },
  {
   "cell_type": "code",
   "execution_count": null,
   "metadata": {
    "pycharm": {
     "name": "#%%\n"
    }
   },
   "outputs": [],
   "source": [
    "v = np.array([[1,2,3]])\n",
    "print(v )\n",
    "print(\"transpose\\n\", v.T)"
   ]
  },
  {
   "cell_type": "markdown",
   "metadata": {
    "pycharm": {
     "name": "#%% md\n"
    }
   },
   "source": [
    "### Broadcasting"
   ]
  },
  {
   "cell_type": "markdown",
   "metadata": {
    "pycharm": {
     "name": "#%% md\n"
    }
   },
   "source": [
    "Broadcasting is a powerful mechanism that allows numpy to work with arrays of different shapes when performing arithmetic operations. Frequently we have a smaller array and a larger array, and we want to use the smaller array multiple times to perform some operation on the larger array.\n",
    "\n",
    "For example, suppose that we want to add a constant vector to each row of a matrix. We could do it like this:"
   ]
  },
  {
   "cell_type": "code",
   "execution_count": null,
   "metadata": {
    "pycharm": {
     "name": "#%%\n"
    }
   },
   "outputs": [],
   "source": [
    "# We will add the vector v to each row of the matrix x,\n",
    "# storing the result in the matrix y\n",
    "x = np.array([[1,2,3], [4,5,6], [7,8,9], [10, 11, 12]])\n",
    "v = np.array([1, 0, 1])\n",
    "y = np.empty_like(x)   # Create an empty matrix with the same shape as x\n",
    "\n",
    "# Add the vector v to each row of the matrix x with an explicit loop\n",
    "for i in range(4):\n",
    "    y[i, :] = x[i, :] + v\n",
    "\n",
    "print(y)"
   ]
  },
  {
   "cell_type": "markdown",
   "metadata": {
    "pycharm": {
     "name": "#%% md\n"
    }
   },
   "source": [
    "This works; however when the matrix `x` is very large, computing an explicit loop in Python could be slow. Note that adding the vector v to each row of the matrix `x` is equivalent to forming a matrix `vv` by stacking multiple copies of `v` vertically, then performing elementwise summation of `x` and `vv`. We could implement this approach like this:"
   ]
  },
  {
   "cell_type": "code",
   "execution_count": null,
   "metadata": {
    "pycharm": {
     "name": "#%%\n"
    }
   },
   "outputs": [],
   "source": [
    "vv = np.tile(v, (4, 1))  # Stack 4 copies of v on top of each other\n",
    "print(vv)                # Prints \"[[1 0 1]\n",
    "                         #          [1 0 1]\n",
    "                         #          [1 0 1]\n",
    "                         #          [1 0 1]]\""
   ]
  },
  {
   "cell_type": "code",
   "execution_count": null,
   "metadata": {
    "pycharm": {
     "name": "#%%\n"
    }
   },
   "outputs": [],
   "source": [
    "y = x + vv  # Add x and vv elementwise\n",
    "print(y)"
   ]
  },
  {
   "cell_type": "markdown",
   "metadata": {
    "pycharm": {
     "name": "#%% md\n"
    }
   },
   "source": [
    "Numpy broadcasting allows us to perform this computation without actually creating multiple copies of v. Consider this version, using broadcasting:"
   ]
  },
  {
   "cell_type": "code",
   "execution_count": null,
   "metadata": {
    "pycharm": {
     "name": "#%%\n"
    }
   },
   "outputs": [],
   "source": [
    "import numpy as np\n",
    "\n",
    "# We will add the vector v to each row of the matrix x,\n",
    "# storing the result in the matrix y\n",
    "x = np.array([[1,2,3], [4,5,6], [7,8,9], [10, 11, 12]])\n",
    "v = np.array([1, 0, 1])\n",
    "y = x + v  # Add v to each row of x using broadcasting\n",
    "print(y)"
   ]
  },
  {
   "cell_type": "markdown",
   "metadata": {
    "pycharm": {
     "name": "#%% md\n"
    }
   },
   "source": [
    "The line `y = x + v` works even though `x` has shape `(4, 3)` and `v` has shape `(3,)` due to broadcasting; this line works as if v actually had shape `(4, 3)`, where each row was a copy of `v`, and the sum was performed elementwise.\n",
    "\n",
    "Broadcasting two arrays together follows these rules:\n",
    "\n",
    "1. If the arrays do not have the same rank, prepend the shape of the lower rank array with 1s until both shapes have the same length.\n",
    "2. The two arrays are said to be compatible in a dimension if they have the same size in the dimension, or if one of the arrays has size 1 in that dimension.\n",
    "3. The arrays can be broadcast together if they are compatible in all dimensions.\n",
    "4. After broadcasting, each array behaves as if it had shape equal to the elementwise maximum of shapes of the two input arrays.\n",
    "5. In any dimension where one array had size 1 and the other array had size greater than 1, the first array behaves as if it were copied along that dimension\n",
    "\n",
    "If this explanation does not make sense, try reading the explanation from the [documentation](http://docs.scipy.org/doc/numpy/user/basics.broadcasting.html) or this [explanation](http://wiki.scipy.org/EricsBroadcastingDoc).\n",
    "\n",
    "Functions that support broadcasting are known as universal functions. You can find the list of all universal functions in the [documentation](http://docs.scipy.org/doc/numpy/reference/ufuncs.html#available-ufuncs).\n",
    "\n",
    "Here are some applications of broadcasting:"
   ]
  },
  {
   "cell_type": "markdown",
   "metadata": {
    "pycharm": {
     "name": "#%% md\n"
    }
   },
   "source": []
  },
  {
   "cell_type": "code",
   "execution_count": null,
   "metadata": {
    "pycharm": {
     "name": "#%%\n"
    }
   },
   "outputs": [],
   "source": [
    "# Compute outer product of vectors\n",
    "v = np.array([1,2,3])  # v has shape (3,)\n",
    "w = np.array([4,5])    # w has shape (2,)\n",
    "# To compute an outer product, we first reshape v to be a column\n",
    "# vector of shape (3, 1); we can then broadcast it against w to yield\n",
    "# an output of shape (3, 2), which is the outer product of v and w:\n",
    "\n",
    "print(np.reshape(v, (3, 1)) * w)"
   ]
  },
  {
   "cell_type": "code",
   "execution_count": null,
   "metadata": {
    "pycharm": {
     "name": "#%%\n"
    }
   },
   "outputs": [],
   "source": [
    "# Add a vector to each row of a matrix\n",
    "x = np.array([[1,2,3], [4,5,6]])\n",
    "# x has shape (2, 3) and v has shape (3,) so they broadcast to (2, 3),\n",
    "# giving the following matrix:\n",
    "\n",
    "print(x + v)"
   ]
  },
  {
   "cell_type": "code",
   "execution_count": null,
   "metadata": {
    "pycharm": {
     "name": "#%%\n"
    }
   },
   "outputs": [],
   "source": [
    "# Add a vector to each column of a matrix\n",
    "# x has shape (2, 3) and w has shape (2,).\n",
    "# If we transpose x then it has shape (3, 2) and can be broadcast\n",
    "# against w to yield a result of shape (3, 2); transposing this result\n",
    "# yields the final result of shape (2, 3) which is the matrix x with\n",
    "# the vector w added to each column. Gives the following matrix:\n",
    "\n",
    "print((x.T + w).T)"
   ]
  },
  {
   "cell_type": "code",
   "execution_count": null,
   "metadata": {
    "pycharm": {
     "name": "#%%\n"
    }
   },
   "outputs": [],
   "source": [
    "# Another solution is to reshape w to be a row vector of shape (2, 1);\n",
    "# we can then broadcast it directly against x to produce the same\n",
    "# output.\n",
    "print(x + np.reshape(w, (2, 1)))"
   ]
  },
  {
   "cell_type": "code",
   "execution_count": null,
   "metadata": {
    "pycharm": {
     "name": "#%%\n"
    }
   },
   "outputs": [],
   "source": [
    "# Multiply a matrix by a constant:\n",
    "# x has shape (2, 3). Numpy treats scalars as arrays of shape ();\n",
    "# these can be broadcast together to shape (2, 3), producing the\n",
    "# following array:\n",
    "print(x * 2)"
   ]
  },
  {
   "cell_type": "markdown",
   "metadata": {
    "pycharm": {
     "name": "#%% md\n"
    }
   },
   "source": [
    "Broadcasting typically makes your code more concise and faster, so you should strive to use it where possible."
   ]
  },
  {
   "cell_type": "markdown",
   "metadata": {
    "pycharm": {
     "name": "#%% md\n"
    }
   },
   "source": [
    "This brief overview has touched on many of the important things that you need to know about numpy, but is far from complete. Check out the [numpy reference](http://docs.scipy.org/doc/numpy/reference/) to find out much more about numpy."
   ]
  }
 ],
 "metadata": {
  "kernelspec": {
   "display_name": "Python 3 (ipykernel)",
   "language": "python",
   "name": "python3"
  },
  "language_info": {
   "codemirror_mode": {
    "name": "ipython",
    "version": 3
   },
   "file_extension": ".py",
   "mimetype": "text/x-python",
   "name": "python",
   "nbconvert_exporter": "python",
   "pygments_lexer": "ipython3",
   "version": "3.11.3"
  }
 },
 "nbformat": 4,
 "nbformat_minor": 1
}
