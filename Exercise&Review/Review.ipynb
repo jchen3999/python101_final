{
 "cells": [
  {
   "cell_type": "markdown",
   "metadata": {
    "pycharm": {
     "name": "#%% md\n"
    }
   },
   "source": [
    "# Day1 Review"
   ]
  },
  {
   "cell_type": "markdown",
   "metadata": {
    "pycharm": {
     "name": "#%% md\n"
    }
   },
   "source": [
    "## Reference\n",
    "- https://github.com/photosbyjeremy/img_qc_workshop/\n",
    "- https://colab.research.google.com/drive/1MMV01jbck3hjnnL9teoTm8pjZjk3hnJ4?usp=sharing\n",
    "- https://github.com/AlphaWaveData/Jupyter-Notebooks/blob/master/Learn%20Python%20Conditional%20Statements.ipynb\n",
    "- https://leetcode.com/"
   ]
  },
  {
   "cell_type": "markdown",
   "metadata": {
    "pycharm": {
     "name": "#%% md\n"
    }
   },
   "source": [
    "# Jupyter Notebooks\n",
    "\n",
    "Click on *Help > User Interface Tour* in the menu for a quick introduction to the UI\n",
    "\n",
    "Double click this cell (anywhere) to view its source code\n",
    "\n",
    "* What you HAVE to know:\n",
    " - Cells can contain Markdown, code, or raw text\n",
    " - Click on a cell to select it and click again to modify its content\n",
    " - **Shift+Enter to execute a cell and select the next one** (Ctrl+Enter if you do not want to select the next one)\n",
    " \n",
    "\n",
    "* What's helpful to know:\n",
    "  - You can copy/paste and insert/remove cell using the menu above\n",
    "  - **Keyboard Shortcuts!!** (after you hit ```Esc``` and the cursor disappear)\n",
    "      - a: add cell before selected cell\n",
    "      - b: add cell after selected cell\n",
    "      - dd: delete selected cell"
   ]
  },
  {
   "cell_type": "code",
   "execution_count": 1,
   "metadata": {
    "pycharm": {
     "name": "#%%\n"
    }
   },
   "outputs": [
    {
     "name": "stdout",
     "output_type": "stream",
     "text": [
      "x is a variable\n"
     ]
    }
   ],
   "source": [
    "# This is a code cell.\n",
    "\n",
    "# Comments can be entered in a code cell after the pound-sign\n",
    "x = 'variable'\n",
    "print(f'x is a {x}')"
   ]
  },
  {
   "cell_type": "markdown",
   "metadata": {
    "pycharm": {
     "name": "#%% md\n"
    }
   },
   "source": [
    "This is a Markdown cell.\n",
    "\n",
    "\"Markdown is a text-to-HTML conversion tool for web writers.\"\n",
    "-- https://daringfireball.net/projects/markdown/"
   ]
  },
  {
   "cell_type": "raw",
   "metadata": {
    "pycharm": {
     "name": "#%% raw\n"
    }
   },
   "source": [
    "This is Raw NBConvert Cell.\n",
    "\n",
    "Write raw LaTeX or other formats here. \"Running\" this cell does nothing.\n",
    "\n",
    "Raw text is included in any NBConvert output. NBConvert is a program that will convert your notebook into the other formats such as PDF, see File > Download as > \n",
    "\n",
    "NOTE: using NBConvert requires additional installs: https://nbconvert.readthedocs.io/en/latest/install.html"
   ]
  },
  {
   "cell_type": "markdown",
   "metadata": {
    "pycharm": {
     "name": "#%% md\n"
    }
   },
   "source": [
    "# SINGLE DATA TYPES #\n",
    "\n",
    "### Prerequisite knowledge ###\n",
    "- variable assignment using a single equals `=`\n",
    "- variables must use letters first and not numbers e.g. `var_1` and not `1_var`\n",
    "- there are reserved words that cannot be used such as `print`, `str`, `int`....\n",
    "\n",
    "\n",
    "<b>Web Resources</b>\n",
    "<br> <a href='https://docs.python.org/3/tutorial/introduction.html#numbers'>Docs.python.org - Numbers Data Types</a>\n",
    "<br> <a href='https://docs.python.org/3/tutorial/introduction.html#strings'>Docs.python.org - Strings Data Types</a>\n",
    "<br> <a href='https://docs.python.org/3/tutorial/introduction.html#lists'>Docs.python.org - Lists Data Types</a>\n",
    "<br> <a href='https://docs.python.org/3/tutorial/datastructures.html#dictionaries'>Docs.python.org - Dictionary Data Types</a>"
   ],
   "outputs": []
  },
  {
   "cell_type": "markdown",
   "source": [
    "\n",
    "<h2>STRINGS</h2>\n",
    "\n",
    "#### What is a String?\n",
    "A string is a data type that is used to represent text rather than numbers and is composed of a set of characters and can also contain spaces and numbers.\n",
    "<br>\n",
    "<br>\n",
    "#### Why do we use Strings?\n",
    "Strings are useful when storing small or large bodies from single words to full sentences.\n",
    "<br>\n",
    "<br>\n",
    "#### How do we use Strings?\n",
    "Strings are assigned to variables using a single equals and are surrounded by triple quotes `\"\"\" \"\"\"`, double quotes `\" \"` or single quotes `' '`, although triple quotes are generally used for function doc strings so please use the single or double quotes.\n"
   ],
   "metadata": {
    "collapsed": false,
    "pycharm": {
     "name": "#%% md\n"
    }
   }
  },
  {
   "cell_type": "markdown",
   "source": [
    "### Creating a String"
   ],
   "metadata": {
    "collapsed": false,
    "pycharm": {
     "name": "#%% md\n"
    }
   }
  },
  {
   "cell_type": "code",
   "execution_count": 2,
   "outputs": [
    {
     "name": "stdout",
     "output_type": "stream",
     "text": [
      "this is also a string\n"
     ]
    },
    {
     "data": {
      "text/plain": "str"
     },
     "execution_count": 2,
     "metadata": {},
     "output_type": "execute_result"
    }
   ],
   "source": [
    "string_1 = \"\"\"This is a string\"\"\"    # triple quote\n",
    "string_2 = \"this is another string\"  # double quote\n",
    "string_3 = 'this is also a string'   # single quote\n",
    "\n",
    "print(string_3)\n",
    "type(string_1)"
   ],
   "metadata": {
    "collapsed": false,
    "pycharm": {
     "name": "#%%\n"
    }
   }
  },
  {
   "cell_type": "markdown",
   "source": [
    "### Indexing a String ###\n",
    "It is possible to index a string by referencing the position (or index) of a single character, or by referencing a range with a start and end position. Note: indexes start at where the first element is 0."
   ],
   "metadata": {
    "collapsed": false,
    "pycharm": {
     "name": "#%% md\n"
    }
   }
  },
  {
   "cell_type": "code",
   "execution_count": 3,
   "outputs": [
    {
     "name": "stdout",
     "output_type": "stream",
     "text": [
      "This is a string\n",
      "T\n",
      "is a str\n"
     ]
    }
   ],
   "source": [
    "print(string_1)\n",
    "print(string_1[0])\n",
    "print(string_1[5:-3])"
   ],
   "metadata": {
    "collapsed": false,
    "pycharm": {
     "name": "#%%\n"
    }
   }
  },
  {
   "cell_type": "markdown",
   "source": [
    "<h2>INTEGERS or INTs</h2>\n",
    "\n",
    "#### What is an Integer?\n",
    "An integer is a whole number (not a fraction) that can be positive, negative or zero.\n",
    "<br>\n",
    "<br>\n",
    "#### Why do we use Integers?\n",
    "Integers are a commonly used data type in programming as they are efficient to store and are generally used in loops and indexing strings or lists.\n",
    "<br>\n",
    "<br>\n",
    "#### How do we use Integers?\n",
    "Integers are assigned to variables using a single equals and are standalone numbers without a decimal point or an operation that does not return a whole number."
   ],
   "metadata": {
    "collapsed": false,
    "pycharm": {
     "name": "#%% md\n"
    }
   }
  },
  {
   "cell_type": "code",
   "execution_count": 4,
   "outputs": [
    {
     "name": "stdout",
     "output_type": "stream",
     "text": [
      "1 -2\n"
     ]
    },
    {
     "data": {
      "text/plain": "int"
     },
     "execution_count": 4,
     "metadata": {},
     "output_type": "execute_result"
    }
   ],
   "source": [
    "int_1 = 1\n",
    "int_2 = -2\n",
    "\n",
    "\n",
    "print(int_1, int_2)\n",
    "type(int_1)"
   ],
   "metadata": {
    "collapsed": false,
    "pycharm": {
     "name": "#%%\n"
    }
   }
  },
  {
   "cell_type": "markdown",
   "source": [
    "<h2>FLOATING-POINT NUMBERS or FLOATS</h2>\n",
    "\n",
    "#### What is a Float?\n",
    "A float is a floating-point number that contains a decimal point. Compared to Integers, they require more space in memory as you will have two integers separated by a decimal point.\n",
    "<br>\n",
    "<br>\n",
    "#### Why do we use Floats?\n",
    "Computers recognize real numbers that contain fractions as floating point numbers. Floats are useful for numbers that require a great deal of precision, such as calculations in engineering or microchip manufacturing.\n",
    "<br>\n",
    "<br>\n",
    "#### How do we use Floats?\n",
    "Floats are assigned to variables using a single equals and are standalone numbers that contain a decimal point or the result of an operation that returns a decimal number."
   ],
   "metadata": {
    "collapsed": false,
    "pycharm": {
     "name": "#%% md\n"
    }
   }
  },
  {
   "cell_type": "code",
   "execution_count": 5,
   "outputs": [
    {
     "name": "stdout",
     "output_type": "stream",
     "text": [
      "1.0 3.0\n"
     ]
    },
    {
     "data": {
      "text/plain": "float"
     },
     "execution_count": 5,
     "metadata": {},
     "output_type": "execute_result"
    }
   ],
   "source": [
    "float_1 = 1.0\n",
    "float_2 = 3 / 1\n",
    "print(float_1, float_2)\n",
    "type(float_1)"
   ],
   "metadata": {
    "collapsed": false,
    "pycharm": {
     "name": "#%%\n"
    }
   }
  },
  {
   "cell_type": "markdown",
   "source": [
    "# BASIC DATA STRUCTURES #\n",
    "Now that we have covered single variables being strings, ints and floats, there is another class of variables which store one or more single variables.\n",
    "\n",
    "These are Lists, Dictionaries and Tuples. More information can be found in the python documentation: <br>\n",
    "https://docs.python.org/3/tutorial/datastructures.html"
   ],
   "metadata": {
    "collapsed": false,
    "pycharm": {
     "name": "#%% md\n"
    }
   }
  },
  {
   "cell_type": "markdown",
   "source": [
    "<h2>LISTS</h2>\n",
    "\n",
    "#### What is a List?\n",
    "Lists are data structures that contain an ordered collection of elements. These elements are generally of the same type and can contain elements such as single data types through to more complex data structures such as other lists or dictionaries.\n",
    "<br>\n",
    "<br>\n",
    "#### Why do we use Lists?\n",
    "Lists are commonly used in programming to store and organize data so it can be easily sorted, indexed or searched.\n",
    "<br>\n",
    "<br>\n",
    "#### How do we use Lists?\n",
    "Lists are assigned to variables using a single equals, are denoted by square brackets, and use a comma to separate elements `[a,b]`.\n",
    "\n",
    "### Creating a List\n",
    "There are two main ways of creating a list. First is to use square brackets,`a=[]` and the second is to use the list type cast `b=list()`."
   ],
   "metadata": {
    "collapsed": false,
    "pycharm": {
     "name": "#%% md\n"
    }
   }
  },
  {
   "cell_type": "code",
   "execution_count": 6,
   "outputs": [
    {
     "name": "stdout",
     "output_type": "stream",
     "text": [
      "['string item', 1.0, 100]\n"
     ]
    },
    {
     "data": {
      "text/plain": "list"
     },
     "execution_count": 6,
     "metadata": {},
     "output_type": "execute_result"
    }
   ],
   "source": [
    "list_1 = ['string item',float_1,100]\n",
    "list_a = list()\n",
    "print(list_1)\n",
    "type(list_1)"
   ],
   "metadata": {
    "collapsed": false,
    "pycharm": {
     "name": "#%%\n"
    }
   }
  },
  {
   "cell_type": "markdown",
   "source": [
    "### Adding an item to a List ###\n",
    "Now that we have our list, you can add another element using the python's inbuilt `.append()` method."
   ],
   "metadata": {
    "collapsed": false,
    "pycharm": {
     "name": "#%% md\n"
    }
   }
  },
  {
   "cell_type": "code",
   "execution_count": 7,
   "outputs": [
    {
     "name": "stdout",
     "output_type": "stream",
     "text": [
      "['string item', 1.0, 100, 'new element']\n"
     ]
    },
    {
     "data": {
      "text/plain": "list"
     },
     "execution_count": 7,
     "metadata": {},
     "output_type": "execute_result"
    }
   ],
   "source": [
    "list_1.append('new element')\n",
    "print(list_1)\n",
    "type(list_1)"
   ],
   "metadata": {
    "collapsed": false,
    "pycharm": {
     "name": "#%%\n"
    }
   }
  },
  {
   "cell_type": "markdown",
   "source": [
    "### Changing an item in a List ###\n",
    "When changing an item in a list, you need to know the position of the item denoted by the index."
   ],
   "metadata": {
    "collapsed": false,
    "pycharm": {
     "name": "#%% md\n"
    }
   }
  },
  {
   "cell_type": "code",
   "execution_count": 8,
   "outputs": [
    {
     "name": "stdout",
     "output_type": "stream",
     "text": [
      "['string item', 'Changed Item', 100, 'new element']\n"
     ]
    }
   ],
   "source": [
    "list_1[1]='Changed Item'\n",
    "print(list_1)"
   ],
   "metadata": {
    "collapsed": false,
    "pycharm": {
     "name": "#%%\n"
    }
   }
  },
  {
   "cell_type": "markdown",
   "source": [
    "### Removing an item from a List ###\n",
    "To remove an item from a list, use the `.pop()` method."
   ],
   "metadata": {
    "collapsed": false,
    "pycharm": {
     "name": "#%% md\n"
    }
   }
  },
  {
   "cell_type": "code",
   "execution_count": 10,
   "outputs": [
    {
     "name": "stdout",
     "output_type": "stream",
     "text": [
      "['Changed Item', 100, 'new element']\n"
     ]
    }
   ],
   "source": [
    "list_1.pop(0)\n",
    "print(list_1)"
   ],
   "metadata": {
    "collapsed": false,
    "pycharm": {
     "name": "#%%\n"
    }
   }
  },
  {
   "cell_type": "markdown",
   "source": [
    "### Merging two Lists ###\n",
    "There are two ways you can merge two lists. First is to append using `.append(element)` which will add the new elements to the end of the old list."
   ],
   "metadata": {
    "collapsed": false,
    "pycharm": {
     "name": "#%% md\n"
    }
   }
  },
  {
   "cell_type": "code",
   "execution_count": 11,
   "outputs": [
    {
     "name": "stdout",
     "output_type": "stream",
     "text": [
      "['Changed Item', 100, 'new element', ['this', 'is', 'a', 'list']]\n"
     ]
    }
   ],
   "source": [
    "list_2 = ['this', 'is', 'a', 'list']\n",
    "list_1.append(list_2)\n",
    "print(list_1)"
   ],
   "metadata": {
    "collapsed": false,
    "pycharm": {
     "name": "#%%\n"
    }
   }
  },
  {
   "cell_type": "markdown",
   "source": [
    "The other way is to insert a list as an element within the list (note: not append but inject) using the `.insert(index, element)` method."
   ],
   "metadata": {
    "collapsed": false,
    "pycharm": {
     "name": "#%% md\n"
    }
   }
  },
  {
   "cell_type": "code",
   "execution_count": 12,
   "outputs": [
    {
     "name": "stdout",
     "output_type": "stream",
     "text": [
      "[1, 2, [5, 6, 7, 8], 3, 4]\n"
     ]
    }
   ],
   "source": [
    "list_3 = [1,2,3,4]\n",
    "list_4 = [5,6,7,8]\n",
    "list_3.insert(2,list_4)\n",
    "print(list_3)"
   ],
   "metadata": {
    "collapsed": false,
    "pycharm": {
     "name": "#%%\n"
    }
   }
  },
  {
   "cell_type": "markdown",
   "source": [
    "### Accessing items in a List\n",
    "You can access list items by referring to the index number of the item. Note: Lists start with an index of 0.\n",
    "\n",
    "You can also use negative indexing to access items from back to front. E.g. -1 is the last item in the list and -2 is second last."
   ],
   "metadata": {
    "collapsed": false,
    "pycharm": {
     "name": "#%% md\n"
    }
   }
  },
  {
   "cell_type": "code",
   "execution_count": 13,
   "outputs": [
    {
     "name": "stdout",
     "output_type": "stream",
     "text": [
      "Changed Item\n",
      "['this', 'is', 'a', 'list']\n"
     ]
    }
   ],
   "source": [
    "print(list_1[0])\n",
    "print(list_1[-1])"
   ],
   "metadata": {
    "collapsed": false,
    "pycharm": {
     "name": "#%%\n"
    }
   }
  },
  {
   "cell_type": "markdown",
   "source": [
    "You can also reference index ranges by using the colon between indexes which refer to the start and end of the range e.g. `[start:end]` or if you omit a number on either start (or end), it will include everything from the start (or end) up until the end (or start) e.g. `[:end]` will include the first item until the end index item."
   ],
   "metadata": {
    "collapsed": false,
    "pycharm": {
     "name": "#%% md\n"
    }
   }
  },
  {
   "cell_type": "code",
   "execution_count": 14,
   "outputs": [
    {
     "name": "stdout",
     "output_type": "stream",
     "text": [
      "['Changed Item', 100, 'new element']\n",
      "['new element', ['this', 'is', 'a', 'list']]\n"
     ]
    }
   ],
   "source": [
    "print(list_1[0:3])\n",
    "print(list_1[2:])"
   ],
   "metadata": {
    "collapsed": false,
    "pycharm": {
     "name": "#%%\n"
    }
   }
  },
  {
   "cell_type": "markdown",
   "source": [
    "### List of Dictionaries ###\n",
    "The below example illustrates how to create a list of dictionaries (a more complex data structure that will be covered below)."
   ],
   "metadata": {
    "collapsed": false,
    "pycharm": {
     "name": "#%% md\n"
    }
   }
  },
  {
   "cell_type": "code",
   "execution_count": 15,
   "outputs": [
    {
     "name": "stdout",
     "output_type": "stream",
     "text": [
      "[{'key_1': 'value_1', 'key_2': 'value_2'}, {'key_3': 'value_3', 'key_4': 'value_4'}, {'key_1': 'value_1', 'key_2': 'value_2'}]\n"
     ]
    },
    {
     "data": {
      "text/plain": "list"
     },
     "execution_count": 15,
     "metadata": {},
     "output_type": "execute_result"
    }
   ],
   "source": [
    "dict_a = {'key_1':'value_1',\n",
    "          'key_2':'value_2'}\n",
    "dict_b = {'key_3':'value_3',\n",
    "          'key_4':'value_4'}\n",
    "list_a = [dict_a, dict_b, dict_a]\n",
    "print(list_a)\n",
    "type(list_a)"
   ],
   "metadata": {
    "collapsed": false,
    "pycharm": {
     "name": "#%%\n"
    }
   }
  },
  {
   "cell_type": "markdown",
   "source": [
    "We can also index this list to get the dictionary."
   ],
   "metadata": {
    "collapsed": false,
    "pycharm": {
     "name": "#%% md\n"
    }
   }
  },
  {
   "cell_type": "code",
   "execution_count": 16,
   "outputs": [
    {
     "name": "stdout",
     "output_type": "stream",
     "text": [
      "{'key_1': 'value_1', 'key_2': 'value_2'}\n"
     ]
    },
    {
     "data": {
      "text/plain": "dict"
     },
     "execution_count": 16,
     "metadata": {},
     "output_type": "execute_result"
    }
   ],
   "source": [
    "print(list_a[0])\n",
    "type(list_a[0])"
   ],
   "metadata": {
    "collapsed": false,
    "pycharm": {
     "name": "#%%\n"
    }
   }
  },
  {
   "cell_type": "markdown",
   "source": [
    "### List Comprehension\n",
    "List comprehensions provide a concise way to create lists where each new element is the result of some operation applied to each member of another sequence or iterable."
   ],
   "metadata": {
    "collapsed": false,
    "pycharm": {
     "name": "#%% md\n"
    }
   }
  },
  {
   "cell_type": "code",
   "execution_count": 17,
   "outputs": [
    {
     "name": "stdout",
     "output_type": "stream",
     "text": [
      "[0, 1, 4, 9, 16, 25, 36, 49, 64, 81]\n"
     ]
    },
    {
     "data": {
      "text/plain": "list"
     },
     "execution_count": 17,
     "metadata": {},
     "output_type": "execute_result"
    }
   ],
   "source": [
    "squares = [x**2 for x in range(10)]\n",
    "print(squares)\n",
    "type(squares)"
   ],
   "metadata": {
    "collapsed": false,
    "pycharm": {
     "name": "#%%\n"
    }
   }
  },
  {
   "cell_type": "markdown",
   "source": [
    "<h2>TUPLES</h2>\n",
    "\n",
    "#### What is a Tuple?\n",
    "A tuple is a data structure that contains an ordered collection of elements that are immutable (unchangeable). These elements are generally of the same type and can contain elements such as single data types through to more complex data structures such as other lists or dictionaries.\n",
    "<br>\n",
    "<br>\n",
    "#### Why do we use Tuples?\n",
    "Tuples are commonly used in programming to store and organize data so it can be easily sorted, indexed or searched. Since tuples are immutable, we cannot add, change or remove elements.\n",
    "<br>\n",
    "<br>\n",
    "#### How do we use Tuples?\n",
    "Tuples are assigned to variables using a single equals and are denoted by round brackets and use a comma to separate elements `(a,b,c)`.\n",
    "\n",
    "### Creating a Tuple"
   ],
   "metadata": {
    "collapsed": false,
    "pycharm": {
     "name": "#%% md\n"
    }
   }
  },
  {
   "cell_type": "code",
   "execution_count": 18,
   "outputs": [
    {
     "name": "stdout",
     "output_type": "stream",
     "text": [
      "(1, 2, 3, 4)\n"
     ]
    },
    {
     "data": {
      "text/plain": "tuple"
     },
     "execution_count": 18,
     "metadata": {},
     "output_type": "execute_result"
    }
   ],
   "source": [
    "tuple_1 = (1,2,3,4)\n",
    "print(tuple_1)\n",
    "type(tuple_1)"
   ],
   "metadata": {
    "collapsed": false,
    "pycharm": {
     "name": "#%%\n"
    }
   }
  },
  {
   "cell_type": "markdown",
   "source": [
    "<h2>Dictionaries</h2>\n",
    "\n",
    "#### What is a Dictionary?\n",
    "Dictionaries are data structures that contain a collection of \"key\" and \"value\" pairs where each key needs to be a unique string and the value can range from a single variable, to other data structures (such as another dictionary, or a list). If you attempt to add a new key1:value pair when the key1 already exists in the Dictionary, you should get a KeyExists error or risk overwriting the existing data. Since dictionaries can store single or complex data types as values, you can store two identical types in a list or dictionary structure. For example, a key with three identical values in a list key1:[value1,value1,value1] can be stored in a Dictionary.\n",
    "<br>\n",
    "<br>\n",
    "#### Why do we use a Dictionary?\n",
    "Dictionaries are commonly used in programming to store and organize data so it can be easily sorted, indexed or searched. Since dictionaries are mutable, we can add, change, or remove elements.\n",
    "<br>\n",
    "<br>\n",
    "#### How do we use a Dictionary?\n",
    "Dictionaries are assigned to variables using a single equals and are denoted by curly brackets and use a colon to separate key and value, and a comma to separate elements `{key1: value1, key2: value2}`.\n",
    "\n",
    "### Creating a Dictionary\n",
    "There are two ways to create an empty dictionary - `my_dict = dict()` or `my_dict = {}`.\n",
    "The following example illustrates how to create a dictionary with keys and values."
   ],
   "metadata": {
    "collapsed": false,
    "pycharm": {
     "name": "#%% md\n"
    }
   }
  },
  {
   "cell_type": "code",
   "execution_count": 1,
   "outputs": [
    {
     "name": "stdout",
     "output_type": "stream",
     "text": [
      "{'key_1': 'value_1', 'key_2': 'value_2'}\n",
      "{'key_100': 'item_100', 'key_101': 'item_101'}\n"
     ]
    },
    {
     "data": {
      "text/plain": "dict"
     },
     "execution_count": 1,
     "metadata": {},
     "output_type": "execute_result"
    }
   ],
   "source": [
    "dict_1 = {'key_1':'value_1',\n",
    "          'key_2':'value_2'}\n",
    "\n",
    "dict_2 = dict(key_100='item_100',key_101='item_101')\n",
    "print(dict_1)\n",
    "print(dict_2)\n",
    "type(dict_1)"
   ],
   "metadata": {
    "collapsed": false,
    "pycharm": {
     "name": "#%%\n"
    }
   }
  },
  {
   "cell_type": "markdown",
   "source": [
    "### Adding items to a Dictionary\n",
    "Once we have created the dictionary data structure object, the below example shows how to add a new key, value pair where the value is a list from the above example."
   ],
   "metadata": {
    "collapsed": false,
    "pycharm": {
     "name": "#%% md\n"
    }
   }
  },
  {
   "cell_type": "code",
   "execution_count": 2,
   "outputs": [
    {
     "name": "stdout",
     "output_type": "stream",
     "text": [
      "{'key_1': 'value_1', 'key_2': 'value_2', 'key_3': 'value_3'}\n"
     ]
    }
   ],
   "source": [
    "dict_1['key_3'] = 'value_3'\n",
    "print(dict_1)"
   ],
   "metadata": {
    "collapsed": false,
    "pycharm": {
     "name": "#%%\n"
    }
   }
  },
  {
   "cell_type": "markdown",
   "source": [
    "### Removing items from a Dictionary\n",
    "To remove items from a dictionary you can use the `.pop()` method."
   ],
   "metadata": {
    "collapsed": false,
    "pycharm": {
     "name": "#%% md\n"
    }
   }
  },
  {
   "cell_type": "code",
   "execution_count": 3,
   "outputs": [
    {
     "name": "stdout",
     "output_type": "stream",
     "text": [
      "{'key_2': 'value_2', 'key_3': 'value_3'}\n"
     ]
    }
   ],
   "source": [
    "dict_1.pop('key_1')\n",
    "print(dict_1)"
   ],
   "metadata": {
    "collapsed": false,
    "pycharm": {
     "name": "#%%\n"
    }
   }
  },
  {
   "cell_type": "markdown",
   "source": [
    "### Accessing items in a Dictionary ###\n",
    "To access a value in a dictionary you can use the `.get()` method, which is preferred because if it cannot find the key it will return a `None`.\n",
    "\n",
    "The second method does work but is not considered best practice since python throws `KeyError` and will block a program from continuing."
   ],
   "metadata": {
    "collapsed": false,
    "pycharm": {
     "name": "#%% md\n"
    }
   }
  },
  {
   "cell_type": "code",
   "execution_count": 4,
   "outputs": [
    {
     "name": "stdout",
     "output_type": "stream",
     "text": [
      "None\n",
      "None\n",
      "value_2\n"
     ]
    },
    {
     "ename": "KeyError",
     "evalue": "'key_10'",
     "output_type": "error",
     "traceback": [
      "\u001B[0;31m---------------------------------------------------------------------------\u001B[0m",
      "\u001B[0;31mKeyError\u001B[0m                                  Traceback (most recent call last)",
      "Cell \u001B[0;32mIn[4], line 7\u001B[0m\n\u001B[1;32m      5\u001B[0m \u001B[38;5;66;03m# or another way\u001B[39;00m\n\u001B[1;32m      6\u001B[0m \u001B[38;5;28mprint\u001B[39m(dict_1[\u001B[38;5;124m'\u001B[39m\u001B[38;5;124mkey_2\u001B[39m\u001B[38;5;124m'\u001B[39m])\n\u001B[0;32m----> 7\u001B[0m \u001B[38;5;28mprint\u001B[39m(\u001B[43mdict_1\u001B[49m\u001B[43m[\u001B[49m\u001B[38;5;124;43m'\u001B[39;49m\u001B[38;5;124;43mkey_10\u001B[39;49m\u001B[38;5;124;43m'\u001B[39;49m\u001B[43m]\u001B[49m)\n",
      "\u001B[0;31mKeyError\u001B[0m: 'key_10'"
     ]
    }
   ],
   "source": [
    "# to access the item of a dictionary by its key use the .get()\n",
    "print(dict_1.get('key_1'))\n",
    "print(dict_1.get('key_10'))\n",
    "\n",
    "# or another way\n",
    "print(dict_1['key_2'])\n",
    "print(dict_1['key_10'])"
   ],
   "metadata": {
    "collapsed": false,
    "pycharm": {
     "name": "#%%\n"
    }
   }
  },
  {
   "cell_type": "markdown",
   "source": [
    "### Accessing all keys or items of a Dictionary ###\n",
    "It is also possible to output all keys or items to a list."
   ],
   "metadata": {
    "collapsed": false,
    "pycharm": {
     "name": "#%% md\n"
    }
   }
  },
  {
   "cell_type": "code",
   "execution_count": null,
   "outputs": [],
   "source": [
    "if 'key_2' in dict_1:\n",
    "    print(\"key_1 exists!\")"
   ],
   "metadata": {
    "collapsed": false,
    "pycharm": {
     "name": "#%%\n"
    }
   }
  },
  {
   "cell_type": "code",
   "execution_count": null,
   "outputs": [],
   "source": [
    "if 'random_key' in dict_1:\n",
    "    print(\"the key exists!\")\n",
    "else:\n",
    "    print('the key does not exist')"
   ],
   "metadata": {
    "collapsed": false,
    "pycharm": {
     "name": "#%%\n"
    }
   }
  },
  {
   "cell_type": "markdown",
   "source": [
    "### Dictionary Comprehension"
   ],
   "metadata": {
    "collapsed": false,
    "pycharm": {
     "name": "#%% md\n"
    }
   }
  },
  {
   "cell_type": "code",
   "execution_count": 5,
   "outputs": [
    {
     "name": "stdout",
     "output_type": "stream",
     "text": [
      "{0: 0, 1: 1, 2: 4, 3: 9, 4: 16, 5: 25, 6: 36, 7: 49, 8: 64, 9: 81}\n"
     ]
    },
    {
     "data": {
      "text/plain": "dict"
     },
     "execution_count": 5,
     "metadata": {},
     "output_type": "execute_result"
    }
   ],
   "source": [
    "squares_dict = {x:x**2 for x in range(10)}\n",
    "print(squares_dict)\n",
    "type(squares_dict)"
   ],
   "metadata": {
    "collapsed": false,
    "pycharm": {
     "name": "#%%\n"
    }
   }
  },
  {
   "cell_type": "markdown",
   "source": [
    "<h1> Learn Python Operators </h1>\n",
    "\n",
    "\n",
    "\n",
    "Instruction, media content, examples and links to resources that will help you build a foundation for Python competency. Jupyter Notebooks are available on [Google Colab](https://colab.research.google.com/drive/1cx613x6uoikSakmfM8PxGtVcWdqaBJtw?usp=sharing) and [Github](https://github.com/AlphaWaveData/Jupyter-Notebooks/blob/master/Learn%20Python%20Operators.ipynb).\n",
    "\n",
    "<b>Web Resources</b>\n",
    "<br> <a href='https://www.geeksforgeeks.org/basic-operators-python/'>Basic Operators in Python</a>\n",
    "\n",
    "\n",
    "#### What are Operators?####\n",
    "\n",
    "Python operators are symbols that perform an operation on one or more operands. An operand is a variable or a value on which we perform the operation.\n",
    "\n",
    "\n",
    "#### Why use Operators?####\n",
    "\n",
    "Operators can manipulate individual items and return a result. Operators manipulate individual items by conducting mathematical operations and/or returning a Boolean value (True or False).\n",
    "\n",
    "\n",
    "#### What are Mathematical Operators?####\n",
    "\n",
    "Mathematical operators are basic arithmetic symbols used to perform addition, subtraction, multiplication, and more.\n",
    "\n",
    "|Operator                  |Description                                                                        |Example |\n",
    "|-------------------------|-------------------------------------------------------------------------------|-------------|\n",
    "|Assignment (=)        |Assigns a variable a value. |(x = 5)       |\n",
    "|+       | Addition.                   |(1 + 2) |\n",
    "|-         | Subtraction. | (2 - 1)\n",
    "|* | Multiplication. |(1 * 2) |\n",
    "|/             |Division. |(10 / 5)|\n",
    "|% | Modulus. |(15 % 2)\n",
    "\n",
    "\n",
    "#### What are Comparison Operators?####\n",
    "\n",
    "Comparison operators are used to compare values, they either return True or False.\n",
    "\n",
    "|Operator                  |Description                                                                        |Example |\n",
    "|-------------------------|-------------------------------------------------------------------------------|-------------|\n",
    "|Equal to (==)        |If the values of the two operands are equal, then the condition becomes true. |(a == a) is True.       |\n",
    "|Not Equal to (!=)       |If the values of the two operands are not equal, then the condition becomes true.                    |(a != b) is True.|\n",
    "|Greater Than, Greater than or Equal to (>, >=)          |If the value of the left operand is greater than the value of the right operand then the condition becomes true. | (2>1) is True.\n",
    "|Less Than, Less than or Equal to (<, <=) |If the value of the left operand is less than the value of the right operand then the condition becomes true. |(1<2) is True.|\n",
    "|and              |Returns True if all statements are True. |(1<2 and 2>1) is True.|\n",
    "|or | Returns True if one of the statements is True. |(1<2 or 2<4) is True.\n",
    "|not | Reverse the result, returns False if the statement is True.| not(1<5 and 5>3) is not True.\n",
    "\n",
    "#### What are Membership Operators?####\n",
    "\n",
    "Membership operators are used to test whether a value or a variable is found in a sequence (string, tuple, list, set or dictionary). These operators become essential when we discuss loops.\n",
    "\n",
    "|Operator                  |Description                                                                        |Example |\n",
    "|-------------------------|-------------------------------------------------------------------------------|-------------|\n",
    "|in| Returns True if a sequence with the specified value is present in the object. | 3 in [1,2,3] is True.\n",
    "|not in| Returns True if a sequence with the specified value is not present in the object. | 4 not in [1,2,3] is True."
   ],
   "metadata": {
    "collapsed": false,
    "pycharm": {
     "name": "#%% md\n"
    }
   }
  },
  {
   "cell_type": "markdown",
   "source": [
    "<h2> Operators on Numbers </h2>\n",
    "Numerical operations in Python are similar to Excel or any other programming language.\n",
    "\n",
    "You can use these operations to do basic arithmetic."
   ],
   "metadata": {
    "collapsed": false,
    "pycharm": {
     "name": "#%% md\n"
    }
   }
  },
  {
   "cell_type": "code",
   "execution_count": 35,
   "outputs": [
    {
     "data": {
      "text/plain": "5"
     },
     "execution_count": 35,
     "metadata": {},
     "output_type": "execute_result"
    }
   ],
   "source": [
    "y = 15 % 10\n",
    "y"
   ],
   "metadata": {
    "collapsed": false,
    "pycharm": {
     "name": "#%%\n"
    }
   }
  },
  {
   "cell_type": "code",
   "execution_count": 36,
   "outputs": [
    {
     "data": {
      "text/plain": "1.2764480400000002"
     },
     "execution_count": 36,
     "metadata": {},
     "output_type": "execute_result"
    }
   ],
   "source": [
    "j = (1.05 * 1.076) ** 2\n",
    "j"
   ],
   "metadata": {
    "collapsed": false,
    "pycharm": {
     "name": "#%%\n"
    }
   }
  },
  {
   "cell_type": "code",
   "execution_count": 37,
   "outputs": [
    {
     "data": {
      "text/plain": "16.38"
     },
     "execution_count": 37,
     "metadata": {},
     "output_type": "execute_result"
    }
   ],
   "source": [
    "x = 126 * 0.13\n",
    "x"
   ],
   "metadata": {
    "collapsed": false,
    "pycharm": {
     "name": "#%%\n"
    }
   }
  },
  {
   "cell_type": "markdown",
   "source": [
    "<h3> Comparison Operators always result in a Boolean (True/False)</h3>"
   ],
   "metadata": {
    "collapsed": false,
    "pycharm": {
     "name": "#%% md\n"
    }
   }
  },
  {
   "cell_type": "code",
   "execution_count": 38,
   "outputs": [
    {
     "data": {
      "text/plain": "False"
     },
     "execution_count": 38,
     "metadata": {},
     "output_type": "execute_result"
    }
   ],
   "source": [
    "y == x"
   ],
   "metadata": {
    "collapsed": false,
    "pycharm": {
     "name": "#%%\n"
    }
   }
  },
  {
   "cell_type": "code",
   "execution_count": 39,
   "outputs": [
    {
     "data": {
      "text/plain": "True"
     },
     "execution_count": 39,
     "metadata": {},
     "output_type": "execute_result"
    }
   ],
   "source": [
    "j < 7"
   ],
   "metadata": {
    "collapsed": false,
    "pycharm": {
     "name": "#%%\n"
    }
   }
  },
  {
   "cell_type": "code",
   "execution_count": 40,
   "outputs": [
    {
     "data": {
      "text/plain": "True"
     },
     "execution_count": 40,
     "metadata": {},
     "output_type": "execute_result"
    }
   ],
   "source": [
    "x > y and j < 5"
   ],
   "metadata": {
    "collapsed": false,
    "pycharm": {
     "name": "#%%\n"
    }
   }
  },
  {
   "cell_type": "markdown",
   "source": [
    "<h2> Operators on Strings</h2>\n",
    "We can also use these operators on strings.\n",
    "\n",
    "\n",
    "<h5> The addition sign (+) will concatenate a string.</h5>"
   ],
   "metadata": {
    "collapsed": false,
    "pycharm": {
     "name": "#%% md\n"
    }
   }
  },
  {
   "cell_type": "code",
   "execution_count": 42,
   "outputs": [
    {
     "name": "stdout",
     "output_type": "stream",
     "text": [
      "Hello World\n"
     ]
    }
   ],
   "source": [
    "sentence = 'Hello' + ' ' + 'World'\n",
    "print(sentence)"
   ],
   "metadata": {
    "collapsed": false,
    "pycharm": {
     "name": "#%%\n"
    }
   }
  },
  {
   "cell_type": "code",
   "execution_count": 43,
   "outputs": [
    {
     "name": "stdout",
     "output_type": "stream",
     "text": [
      "HaHaHaHaHa!\n"
     ]
    }
   ],
   "source": [
    "k = 'Ha'\n",
    "print(k * 5 + '!')"
   ],
   "metadata": {
    "collapsed": false,
    "pycharm": {
     "name": "#%%\n"
    }
   }
  },
  {
   "cell_type": "markdown",
   "source": [
    "<h5>You can also use the double equals sign (==) to check if two strings are identical.</h5>"
   ],
   "metadata": {
    "collapsed": false,
    "pycharm": {
     "name": "#%% md\n"
    }
   }
  },
  {
   "cell_type": "code",
   "execution_count": 44,
   "outputs": [
    {
     "data": {
      "text/plain": "False"
     },
     "execution_count": 44,
     "metadata": {},
     "output_type": "execute_result"
    }
   ],
   "source": [
    "'ABCD' == 'ABCE'"
   ],
   "metadata": {
    "collapsed": false,
    "pycharm": {
     "name": "#%%\n"
    }
   }
  },
  {
   "cell_type": "markdown",
   "source": [
    "<h5>The double equals sign is case sensitive.</h5>"
   ],
   "metadata": {
    "collapsed": false,
    "pycharm": {
     "name": "#%% md\n"
    }
   }
  },
  {
   "cell_type": "markdown",
   "source": [
    "'ABC' == 'ABc'"
   ],
   "metadata": {
    "collapsed": false,
    "pycharm": {
     "name": "#%% md\n"
    }
   }
  },
  {
   "cell_type": "markdown",
   "source": [
    "<h5> > and < will check if one string has more characters than the other. </h5>"
   ],
   "metadata": {
    "collapsed": false,
    "pycharm": {
     "name": "#%% md\n"
    }
   }
  },
  {
   "cell_type": "code",
   "execution_count": 46,
   "outputs": [
    {
     "data": {
      "text/plain": "True"
     },
     "execution_count": 46,
     "metadata": {},
     "output_type": "execute_result"
    }
   ],
   "source": [
    "'1234567' > '12345' # google alphabetical order"
   ],
   "metadata": {
    "collapsed": false,
    "pycharm": {
     "name": "#%%\n"
    }
   }
  },
  {
   "cell_type": "code",
   "execution_count": 47,
   "outputs": [
    {
     "data": {
      "text/plain": "False"
     },
     "execution_count": 47,
     "metadata": {},
     "output_type": "execute_result"
    }
   ],
   "source": [
    "1 > 2"
   ],
   "metadata": {
    "collapsed": false,
    "pycharm": {
     "name": "#%%\n"
    }
   }
  },
  {
   "cell_type": "markdown",
   "source": [
    "<h5> not reverses the result, meaning it returns True if the statement is False. </h5>"
   ],
   "metadata": {
    "collapsed": false,
    "pycharm": {
     "name": "#%% md\n"
    }
   }
  },
  {
   "cell_type": "code",
   "execution_count": 48,
   "outputs": [
    {
     "data": {
      "text/plain": "False"
     },
     "execution_count": 48,
     "metadata": {},
     "output_type": "execute_result"
    }
   ],
   "source": [
    "not(1>2 and 3==4)"
   ],
   "metadata": {
    "collapsed": false,
    "pycharm": {
     "name": "#%%\n"
    }
   }
  },
  {
   "cell_type": "markdown",
   "source": [
    "<h5> not in returns True if a sequence with the specified value is not present in the object. </h5>"
   ],
   "metadata": {
    "collapsed": false,
    "pycharm": {
     "name": "#%% md\n"
    }
   }
  },
  {
   "cell_type": "code",
   "execution_count": 50,
   "outputs": [
    {
     "data": {
      "text/plain": "True"
     },
     "execution_count": 50,
     "metadata": {},
     "output_type": "execute_result"
    }
   ],
   "source": [
    "'geese' not in ['dog','cat','mouse']"
   ],
   "metadata": {
    "collapsed": false,
    "pycharm": {
     "name": "#%%\n"
    }
   }
  },
  {
   "cell_type": "markdown",
   "source": [
    "<h5> You can print Boolean values. </h5>"
   ],
   "metadata": {
    "collapsed": false,
    "pycharm": {
     "name": "#%% md\n"
    }
   }
  },
  {
   "cell_type": "code",
   "execution_count": 51,
   "outputs": [
    {
     "name": "stdout",
     "output_type": "stream",
     "text": [
      "The two variables are 3 and 10\n"
     ]
    }
   ],
   "source": [
    "var1 = 3\n",
    "var2 = 10\n",
    "\n",
    "print(\"The two variables are {} and {}\".format(var1,var2))"
   ],
   "metadata": {
    "collapsed": false,
    "pycharm": {
     "name": "#%%\n"
    }
   }
  },
  {
   "cell_type": "code",
   "execution_count": 52,
   "outputs": [
    {
     "name": "stdout",
     "output_type": "stream",
     "text": [
      "The two expressions returned Boolean values of True and True\n"
     ]
    }
   ],
   "source": [
    "Boolean1 = var2>var1\n",
    "Boolean2 = (var2 % var1) == 1\n",
    "\n",
    "print(\"The two expressions returned Boolean values of {} and {}\".format(Boolean1,Boolean2))"
   ],
   "metadata": {
    "collapsed": false,
    "pycharm": {
     "name": "#%%\n"
    }
   }
  },
  {
   "cell_type": "code",
   "execution_count": 53,
   "outputs": [
    {
     "name": "stdout",
     "output_type": "stream",
     "text": [
      "The two expressions returned Boolean values of False and False\n"
     ]
    }
   ],
   "source": [
    "Boolean3 = (var2 + var1) > 13\n",
    "Boolean4 = (var2 % var1) > 2\n",
    "\n",
    "print(\"The two expressions returned Boolean values of {} and {}\".format(Boolean3,Boolean4))"
   ],
   "metadata": {
    "collapsed": false,
    "pycharm": {
     "name": "#%%\n"
    }
   }
  },
  {
   "cell_type": "markdown",
   "source": [
    "## Learn Python Conditional Statements\n",
    "\n",
    "#### What are Python Conditionals?\n",
    "When you write code, you are giving instructions to the computer. When you are completing a task in the real world, however, you don't just step through a sequence of instructions blindly. Depending on what else is going on, you will want to adapt your actions. The Python conditional allows you to encode these instructions so that the computer can dynamically adapt to the conditions around it. This is often referred to as <b>control flow</b>.\n",
    "\n",
    "#### What types of Python Conditionals are there?\n",
    "We'll go through the three keywords for Python conditionals: <b>if</b>, <b>else</b>, and <b>elif</b>.\n",
    "\n",
    "In Python, the <b>if</b> statement allows you to control the flow of your code based on a logical condition. The constituents of an if statement are\n",
    "- if\n",
    "- (optional) else\n",
    "- (optional) elif\n",
    "\n",
    "#### If\n",
    "The most basic <b>if</b> statement has a <b>conditional clause</b> and an indented (nested) block of code that only gets executed when that conditional clause is true.\n",
    "\n",
    "<b>if</b> &lt;Conditional Clause&gt;<b>:</b><br>\n",
    "&nbsp;&nbsp;&nbsp;&nbsp;&lt;Line 1 of code that possibly gets executed...Line 1&gt;<br>\n",
    "&nbsp;&nbsp;&nbsp;&nbsp;&lt;Line 2 of code that possibly gets executed...Line 2&gt;"
   ],
   "metadata": {
    "collapsed": false,
    "pycharm": {
     "name": "#%% md\n"
    }
   }
  },
  {
   "cell_type": "code",
   "execution_count": 6,
   "outputs": [],
   "source": [
    "if 1==2:\n",
    "    print('This line will never get printed out')"
   ],
   "metadata": {
    "collapsed": false,
    "pycharm": {
     "name": "#%%\n"
    }
   }
  },
  {
   "cell_type": "code",
   "execution_count": null,
   "outputs": [],
   "source": [
    "if 1==1:\n",
    "    print('Hello World')"
   ],
   "metadata": {
    "collapsed": false,
    "pycharm": {
     "name": "#%%\n"
    }
   }
  },
  {
   "cell_type": "markdown",
   "source": [
    "Note that the colon at the end of the conditional clause is mandatory. The block of code following the colon needs to be indented. Your Python text editor will automatically try to indent this block of code for you when you press Enter on a line ending with a colon.\n",
    "\n",
    "\n",
    "##### We can use logical operators to make more complex comparisons.\n"
   ],
   "metadata": {
    "collapsed": false,
    "pycharm": {
     "name": "#%% md\n"
    }
   }
  },
  {
   "cell_type": "code",
   "execution_count": 7,
   "outputs": [
    {
     "name": "stdout",
     "output_type": "stream",
     "text": [
      "It is a nice day outside\n"
     ]
    }
   ],
   "source": [
    "temp = 72\n",
    "\n",
    "if temp > 68 and temp < 82:\n",
    "    print('It is a nice day outside')"
   ],
   "metadata": {
    "collapsed": false,
    "pycharm": {
     "name": "#%%\n"
    }
   }
  },
  {
   "cell_type": "markdown",
   "source": [
    "#### Else\n",
    "Often you'll want to execute a separate block of code when the conditional clause is false. The <b>else</b> statement allows for this."
   ],
   "metadata": {
    "collapsed": false,
    "pycharm": {
     "name": "#%% md\n"
    }
   }
  },
  {
   "cell_type": "code",
   "execution_count": 8,
   "outputs": [
    {
     "name": "stdout",
     "output_type": "stream",
     "text": [
      "It is a nice day outside\n"
     ]
    }
   ],
   "source": [
    "temp = 72\n",
    "\n",
    "if temp > 68 and temp < 82:\n",
    "    print('It is a nice day outside')\n",
    "else:\n",
    "    print('It is not nice outside')"
   ],
   "metadata": {
    "collapsed": false,
    "pycharm": {
     "name": "#%%\n"
    }
   }
  },
  {
   "cell_type": "markdown",
   "source": [
    "You can have multiple lines of code in any of the blocks. The indentation of the block indicates which lines are part of the control flow.\n",
    "\n",
    "- Note below there are multiple lines of code in the \"if\" block.\n",
    "\n",
    "- And note also that the line printing out \"The special of the day is\" will get executed no matter what. The indentation places the <b>print('The special of the day is')</b> line outside of the if/else conditional."
   ],
   "metadata": {
    "collapsed": false,
    "pycharm": {
     "name": "#%% md\n"
    }
   }
  },
  {
   "cell_type": "markdown",
   "source": [
    "#### Elif\n",
    "The <b>elif</b> statement allows you to chain together <b>else</b> statements for multiple conditionals."
   ],
   "metadata": {
    "collapsed": false,
    "pycharm": {
     "name": "#%% md\n"
    }
   }
  },
  {
   "cell_type": "code",
   "execution_count": 10,
   "outputs": [
    {
     "name": "stdout",
     "output_type": "stream",
     "text": [
      "The special of the day is Chili.\n"
     ]
    }
   ],
   "source": [
    "day_of_week = 'Wednesday'\n",
    "\n",
    "if day_of_week=='Monday':\n",
    "    special = 'Meat Loaf'\n",
    "elif day_of_week=='Tuesday':\n",
    "    special = 'Tacos'\n",
    "elif day_of_week=='Wednesday' or day_of_week=='Thursday':\n",
    "    special = 'Chili'\n",
    "else:\n",
    "    special = 'Fish Sticks'\n",
    "\n",
    "print(\"The special of the day is {}.\".format(special))"
   ],
   "metadata": {
    "collapsed": false,
    "pycharm": {
     "name": "#%%\n"
    }
   }
  },
  {
   "cell_type": "markdown",
   "source": [
    "#### Nested Ifs\n",
    "You can nest if statements inside other if statements.\n"
   ],
   "metadata": {
    "collapsed": false,
    "pycharm": {
     "name": "#%% md\n"
    }
   }
  },
  {
   "cell_type": "code",
   "execution_count": 11,
   "outputs": [
    {
     "name": "stdout",
     "output_type": "stream",
     "text": [
      "It's warm, but too humid out there\n"
     ]
    }
   ],
   "source": [
    "temp = 70\n",
    "humidity = 100\n",
    "\n",
    "if temp > 68 and temp <= 82:\n",
    "    if humidity <= 60:\n",
    "        print(\"It's really nice out\")\n",
    "    else:\n",
    "        print(\"It's warm, but too humid out there\")\n",
    "elif temp >82:\n",
    "    print(\"It's very hot out\")\n",
    "else:\n",
    "    print(\"It's cold out there.\")\n"
   ],
   "metadata": {
    "collapsed": false,
    "pycharm": {
     "name": "#%%\n"
    }
   }
  },
  {
   "cell_type": "markdown",
   "source": [
    "## Example Conditionals"
   ],
   "metadata": {
    "collapsed": false,
    "pycharm": {
     "name": "#%% md\n"
    }
   }
  },
  {
   "cell_type": "markdown",
   "source": [
    "<b>1 - Input Validation</b>\n",
    "\n",
    "Check the type of a variable to ensure that it is of type <b>int</b>. If so, print out the variable and that the input is validated. If it's not an int, print out that the input is invalid."
   ],
   "metadata": {
    "collapsed": false,
    "pycharm": {
     "name": "#%% md\n"
    }
   }
  },
  {
   "cell_type": "code",
   "execution_count": 13,
   "outputs": [
    {
     "name": "stdout",
     "output_type": "stream",
     "text": [
      "Input is invalid\n"
     ]
    }
   ],
   "source": [
    "var = 'seven'\n",
    "\n",
    "if type(var)==int:\n",
    "    print('Input is valid')\n",
    "else:\n",
    "    print('Input is invalid')"
   ],
   "metadata": {
    "collapsed": false,
    "pycharm": {
     "name": "#%%\n"
    }
   }
  },
  {
   "cell_type": "markdown",
   "source": [
    "<b>2 - Days in the month</b>\n",
    "\n",
    "Code to determine the number of days in the current month. We can assume it's not a leap year.\n",
    "\n",
    "\n"
   ],
   "metadata": {
    "collapsed": false,
    "pycharm": {
     "name": "#%% md\n"
    }
   }
  },
  {
   "cell_type": "code",
   "execution_count": 14,
   "outputs": [
    {
     "name": "stdout",
     "output_type": "stream",
     "text": [
      "5\n",
      "31 days this month\n"
     ]
    }
   ],
   "source": [
    "#the provided code below determines the current month\n",
    "import datetime\n",
    "today_dt = datetime.date.today()\n",
    "current_month = today_dt.month\n",
    "print(current_month)\n",
    "\n",
    "#code to determine the number of days in the current month\n",
    "if current_month in [9,4,6,11]:\n",
    "    print('30 days this month')\n",
    "elif current_month==2:\n",
    "    print('28 (or maybe 29) days this month')\n",
    "else:\n",
    "    print('31 days this month')"
   ],
   "metadata": {
    "collapsed": false,
    "pycharm": {
     "name": "#%%\n"
    }
   }
  },
  {
   "cell_type": "markdown",
   "source": [
    "## Learn Python Loops\n",
    "\n",
    "#### <b>What are Python Loops?</b>\n",
    "In the real world, you often need to repeat something over and over. It can be repetitive. When programming, though, if you need to do something 100 times, you certainly don't need to write it out in 100 identical lines of code. In Python, loops allow you to iterate over a sequence, whether that's a list, tuple, string, or dictionary.\n",
    "\n",
    "#### <b>What types of Python Loops are there?</b>\n",
    "There is a <b>for</b> loop and a <b>while</b> loop. We'll also go through list comprehensions, as a \"Pythonic\" powerful shortcut for operating on all the members of a list in a single line of code.\n",
    "\n",
    "#### <b>The for statement</b>\n",
    "\n",
    "A \"for\" loop in Python allows you to go through each item in a sequence, one at a time. This allows you to \"iterate\" through an \"iterable\", such as a Python list, and perform operations on each item one at a time.\n",
    "\n",
    "The simplest example is to step through the items in a list:"
   ],
   "metadata": {
    "collapsed": false,
    "pycharm": {
     "name": "#%% md\n"
    }
   }
  },
  {
   "cell_type": "code",
   "execution_count": 15,
   "outputs": [
    {
     "name": "stdout",
     "output_type": "stream",
     "text": [
      "10\n",
      "20\n",
      "30\n",
      "40\n",
      "50\n",
      "60\n"
     ]
    }
   ],
   "source": [
    "# In the below example, the for loop will step through each item in my_list, assign the element to a local variable (\"x\"),\n",
    "# and execute the block of code below it to print out x\n",
    "\n",
    "my_list = [10, 20, 30, 40, 50, 60]\n",
    "\n",
    "for x in my_list: #<--- x is a variable, who's scope is limited to the for loop. x can be named anything you'd like\n",
    "    print(x)"
   ],
   "metadata": {
    "collapsed": false,
    "pycharm": {
     "name": "#%%\n"
    }
   }
  },
  {
   "cell_type": "markdown",
   "source": [
    "#### <b>The range() function</b>\n",
    "In most cases, we will want to loop through a predetermined list. However, we can also generate a list to loop over \"on the fly\" with the <b>range()</b> function."
   ],
   "metadata": {
    "collapsed": false,
    "pycharm": {
     "name": "#%% md\n"
    }
   }
  },
  {
   "cell_type": "code",
   "execution_count": null,
   "outputs": [],
   "source": [
    "for i in range(8):\n",
    "    print(i)"
   ],
   "metadata": {
    "collapsed": false,
    "pycharm": {
     "name": "#%%\n"
    }
   }
  },
  {
   "cell_type": "markdown",
   "source": [
    "You can use the <b>range()</b> function together with the <b>len()</b> function to loop through a list, along with a variable that has the current index in the sequence."
   ],
   "metadata": {
    "collapsed": false,
    "pycharm": {
     "name": "#%% md\n"
    }
   }
  },
  {
   "cell_type": "code",
   "execution_count": 16,
   "outputs": [
    {
     "name": "stdout",
     "output_type": "stream",
     "text": [
      "0 10\n",
      "1 20\n",
      "2 30\n",
      "3 40\n",
      "4 50\n",
      "5 60\n"
     ]
    }
   ],
   "source": [
    "my_list = [10, 20, 30, 40, 50, 60]\n",
    "\n",
    "for i in range(len(my_list)):\n",
    "    print(i, my_list[i])"
   ],
   "metadata": {
    "collapsed": false,
    "pycharm": {
     "name": "#%%\n"
    }
   }
  },
  {
   "cell_type": "markdown",
   "source": [
    "#### <b>Enumerate</b>\n",
    "You can achieve the same effect as above by using the enumerate() function, to get two values each step through the loop.\n"
   ],
   "metadata": {
    "collapsed": false,
    "pycharm": {
     "name": "#%% md\n"
    }
   }
  },
  {
   "cell_type": "code",
   "execution_count": 17,
   "outputs": [
    {
     "name": "stdout",
     "output_type": "stream",
     "text": [
      "0 10\n",
      "1 20\n",
      "2 30\n",
      "3 40\n",
      "4 50\n",
      "5 60\n"
     ]
    }
   ],
   "source": [
    "# the enumerate function will return two values each time the loop statement is run:\n",
    "# \"indx\" will be the current index value, and \"val\" will be the current element of my_list\n",
    "for indx, val in enumerate(my_list):\n",
    "    print(indx, val)"
   ],
   "metadata": {
    "collapsed": false,
    "pycharm": {
     "name": "#%%\n"
    }
   }
  },
  {
   "cell_type": "markdown",
   "source": [
    "#### <b>Loop through the characters in a string</b>\n",
    "You can also loop through all characters in a string of text in order."
   ],
   "metadata": {
    "collapsed": false,
    "pycharm": {
     "name": "#%% md\n"
    }
   }
  },
  {
   "cell_type": "code",
   "execution_count": 19,
   "outputs": [
    {
     "name": "stdout",
     "output_type": "stream",
     "text": [
      "O\n",
      "n\n",
      "e\n",
      " \n",
      "a\n",
      "t\n",
      " \n",
      "a\n",
      " \n",
      "t\n",
      "i\n",
      "m\n",
      "e\n"
     ]
    }
   ],
   "source": [
    "s = \"One at a time\"\n",
    "for character in s:\n",
    "    print(character)"
   ],
   "metadata": {
    "collapsed": false,
    "pycharm": {
     "name": "#%%\n"
    }
   }
  },
  {
   "cell_type": "markdown",
   "source": [
    "#### <b>Looping through a dictionary</b>\n",
    "#### keys()\n",
    "You can step through the keys of a dictionary."
   ],
   "metadata": {
    "collapsed": false,
    "pycharm": {
     "name": "#%% md\n"
    }
   }
  },
  {
   "cell_type": "code",
   "execution_count": 20,
   "outputs": [
    {
     "name": "stdout",
     "output_type": "stream",
     "text": [
      "AAPL\n",
      "MSFT\n",
      "GOOG\n",
      "CSCO\n"
     ]
    }
   ],
   "source": [
    "my_dict = {'AAPL': 100, 'MSFT': 200, 'GOOG': 300, 'CSCO': 400}\n",
    "\n",
    "for key in my_dict.keys():\n",
    "    print(key)"
   ],
   "metadata": {
    "collapsed": false,
    "pycharm": {
     "name": "#%%\n"
    }
   }
  },
  {
   "cell_type": "markdown",
   "source": [
    "#### items()\n",
    "Alternatively, you can step through all the items in the dictionary. Each item is a key-value pair."
   ],
   "metadata": {
    "collapsed": false,
    "pycharm": {
     "name": "#%% md\n"
    }
   }
  },
  {
   "cell_type": "code",
   "execution_count": 22,
   "outputs": [
    {
     "name": "stdout",
     "output_type": "stream",
     "text": [
      "Key= AAPL, Value= 100\n",
      "Key= MSFT, Value= 200\n",
      "Key= GOOG, Value= 300\n",
      "Key= CSCO, Value= 400\n"
     ]
    }
   ],
   "source": [
    "my_dict = {'AAPL': 100, 'MSFT': 200, 'GOOG': 300, 'CSCO': 400}\n",
    "\n",
    "for key, value in my_dict.items():\n",
    "    print('Key= ' + key + ', Value= ' + str(value))"
   ],
   "metadata": {
    "collapsed": false,
    "pycharm": {
     "name": "#%%\n"
    }
   }
  },
  {
   "cell_type": "markdown",
   "source": [
    "#### <b>The while loop</b>\n",
    "Though not used as frequently as the <b>for</b> loop, the <b>while</b> loop allows you to execute a block of code until a certain condition is met. If you don't know before-hand how many times to iterate, then a <b>while</b> loop may be appropriate."
   ],
   "metadata": {
    "collapsed": false,
    "pycharm": {
     "name": "#%% md\n"
    }
   }
  },
  {
   "cell_type": "code",
   "execution_count": 23,
   "outputs": [
    {
     "name": "stdout",
     "output_type": "stream",
     "text": [
      "1134903170\n"
     ]
    }
   ],
   "source": [
    "#Find the first Fibonacci number that is larger than 1 billion\n",
    "\n",
    "a=1\n",
    "b=1\n",
    "while a < 1000000000:\n",
    "    temp=a\n",
    "    a=b\n",
    "    b=temp+a\n",
    "print(a)"
   ],
   "metadata": {
    "collapsed": false,
    "pycharm": {
     "name": "#%%\n"
    }
   }
  },
  {
   "cell_type": "markdown",
   "source": [
    "#### <b>List Comprehensions (somewhat advanced)</b>\n",
    "List comprehensions provide a convenient shorthand to create a new list from an existing list by performing an operation on each member of the original list. The general syntax for a simple list_comprehension looks like:\n",
    "\n",
    "[<i>python_expression_that_can_reference_var_name</i> <b>for</b> <i>var_name</i> <b>in</b> <i>list_name</i>]\n",
    "\n",
    "Below is an example of using a list comprehension to create a list of the squares of an original list."
   ],
   "metadata": {
    "collapsed": false,
    "pycharm": {
     "name": "#%% md\n"
    }
   }
  },
  {
   "cell_type": "code",
   "execution_count": 24,
   "outputs": [
    {
     "data": {
      "text/plain": "[1, 4, 25, 49, 144, 289]"
     },
     "execution_count": 24,
     "metadata": {},
     "output_type": "execute_result"
    }
   ],
   "source": [
    "my_list = [1,2,5,7,12,17]\n",
    "[x*x for x in my_list]"
   ],
   "metadata": {
    "collapsed": false,
    "pycharm": {
     "name": "#%%\n"
    }
   }
  },
  {
   "cell_type": "markdown",
   "source": [
    "You could achieve the exact same effect with a <b>for</b> loop. The above list comprehension is a more compact way to express the below for loop:"
   ],
   "metadata": {
    "collapsed": false,
    "pycharm": {
     "name": "#%% md\n"
    }
   }
  },
  {
   "cell_type": "code",
   "execution_count": 25,
   "outputs": [
    {
     "data": {
      "text/plain": "[1, 4, 25, 49, 144, 289]"
     },
     "execution_count": 25,
     "metadata": {},
     "output_type": "execute_result"
    }
   ],
   "source": [
    "my_list = [1,2,5,7,12,17]\n",
    "result_list = []\n",
    "for elt in my_list:\n",
    "    result_list.append(elt*elt)\n",
    "result_list"
   ],
   "metadata": {
    "collapsed": false,
    "pycharm": {
     "name": "#%%\n"
    }
   }
  },
  {
   "cell_type": "markdown",
   "source": [
    "#### <b>List Comprehensions with conditioning (somewhat advanced)</b>\n",
    "You can also apply a filtering to each of the elements in the list comprehension. The general syntax looks like:\n",
    "\n",
    "[<i>python_expression_that_can_reference_var_name</i> <b>for</b> <i>var_name</i> <b>in</b> <i>list_name</i><b> if </b><i>python_expression_conditional</i>]\n",
    "\n",
    "The above looks confusing to look at in general terms, but here is a concrete example that may be more clear. We use a list comprehension to get the squares of a list of integers, but we filter out any \"bad\" data:"
   ],
   "metadata": {
    "collapsed": false,
    "pycharm": {
     "name": "#%% md\n"
    }
   }
  },
  {
   "cell_type": "code",
   "execution_count": 26,
   "outputs": [
    {
     "data": {
      "text/plain": "[1, 4, 25, 49, 144, 289]"
     },
     "execution_count": 26,
     "metadata": {},
     "output_type": "execute_result"
    }
   ],
   "source": [
    "my_unfiltered_list = [1,2,None, 5,7,12, 'twenty', 17]\n",
    "[x*x for x in my_unfiltered_list if type(x) is int]"
   ],
   "metadata": {
    "collapsed": false,
    "pycharm": {
     "name": "#%%\n"
    }
   }
  },
  {
   "cell_type": "markdown",
   "source": [
    "The above list comprehension can be replicated, as below, by a <b>for</b> loop and <b>if</b> statements. Once you get the hang of it, the list comprehension is a more readable piece of code."
   ],
   "metadata": {
    "collapsed": false,
    "pycharm": {
     "name": "#%% md\n"
    }
   }
  },
  {
   "cell_type": "code",
   "execution_count": 28,
   "outputs": [
    {
     "data": {
      "text/plain": "[1, 4, 25, 49, 144, 289]"
     },
     "execution_count": 28,
     "metadata": {},
     "output_type": "execute_result"
    }
   ],
   "source": [
    "my_unfiltered_list = [1,2,None, 5,7,12, 'twenty', 17]\n",
    "result_list = []\n",
    "for x in my_unfiltered_list:\n",
    "    if type(x) is int:\n",
    "        result_list.append(x*x)\n",
    "result_list"
   ],
   "metadata": {
    "collapsed": false,
    "pycharm": {
     "name": "#%%\n"
    }
   }
  },
  {
   "cell_type": "markdown",
   "source": [
    "## Example Loops\n",
    "\n",
    "<b>1 - Count the number of even elements in a list </b>\n",
    "\n",
    "Loop through my_list_1 and keep a counter of all the even numbers in the list. The code below shows how to do this using a For Loop and List Comprehension.\n"
   ],
   "metadata": {
    "collapsed": false,
    "pycharm": {
     "name": "#%% md\n"
    }
   }
  },
  {
   "cell_type": "code",
   "execution_count": 29,
   "outputs": [],
   "source": [
    "my_list_1 = [252, 9, 258, 220, 249, 83, 195, 298, 228, 67, 233, 133, 280, 96, 53, 204,\n",
    "            247, 268, 115, 127, 215, 214, 221, 275, 224, 36, 292, 145, 150, 17, 93,\n",
    "            292, 206, 229, 189, 41, 246, 279, 158, 161, 90, 47, 195, 137, 171, 5,\n",
    "            206, 106, 58, 226, 140, 6, 29, 277, 192, 47, 296, 90, 19, 290, 235, 229,\n",
    "            26, 8, 220, 168, 294, 238, 138, 150, 13, 143, 209, 102, 192, 2, 140, 6, 99, 189\n",
    "            ]\n"
   ],
   "metadata": {
    "collapsed": false,
    "pycharm": {
     "name": "#%%\n"
    }
   }
  },
  {
   "cell_type": "code",
   "execution_count": 30,
   "outputs": [
    {
     "data": {
      "text/plain": "42"
     },
     "execution_count": 30,
     "metadata": {},
     "output_type": "execute_result"
    }
   ],
   "source": [
    "#Using a for loop\n",
    "counter = 0\n",
    "for elt in my_list_1:\n",
    "    if elt % 2 == 0:\n",
    "        counter = counter + 1\n",
    "counter"
   ],
   "metadata": {
    "collapsed": false,
    "pycharm": {
     "name": "#%%\n"
    }
   }
  },
  {
   "cell_type": "code",
   "execution_count": 31,
   "outputs": [
    {
     "data": {
      "text/plain": "42"
     },
     "execution_count": 31,
     "metadata": {},
     "output_type": "execute_result"
    }
   ],
   "source": [
    "#Using a list comprehension\n",
    "len([x for x in my_list_1 if x%2==0])"
   ],
   "metadata": {
    "collapsed": false,
    "pycharm": {
     "name": "#%%\n"
    }
   }
  },
  {
   "cell_type": "markdown",
   "source": [
    "<h1> Learn Python Functions </h1>"
   ],
   "metadata": {
    "collapsed": false,
    "pycharm": {
     "name": "#%% md\n"
    }
   }
  },
  {
   "cell_type": "markdown",
   "source": [
    "\n",
    "#### <b>What are Python Functions?</b>\n",
    "\n",
    "A function is a block of organized, reusable code that is used to perform a single, related action.\n",
    "\n",
    "#### <b>Why do we use Functions?</b>\n",
    "\n",
    "Functions provide better modularity for your application and a high degree of code reusing.\n",
    "\n",
    "Python gives you many built-in functions like **print()**, etc. but you can also create your own functions. These functions are called user-defined functions.\n",
    "\n",
    "\n",
    "#### <b>How do we create Functions?</b>\n",
    "\n",
    "You can define functions to provide the required functionality. Here are simple rules to define a function in Python.\n",
    "\n",
    " - Function blocks begin with the keyword **def** followed by the function name and parentheses  ( ) .\n",
    "\n",
    " - Any input parameters or arguments should be placed within these parentheses. You can also define parameters inside these parentheses.\n",
    "\n",
    " - The code block within every function starts after a colon **(:)** and is indented.\n",
    "\n",
    " - The first statement of a function can be an optional statement - the documentation string of the function or docstring.\n",
    "\n",
    " - The statement **return** [expression] exits a function, optionally passing back an expression to the caller. A return statement with no arguments is the same as **return None**. If a **return** statement is not used inside the function, a Python function will also return a 'None' value. This is not equal to zero or nothing, but rather is of type None. A user can check for a None type by using the 'is' operator with 'None' data type:\n",
    "\n",
    "(var1 is None) --> Will return TRUE if var1 is of None data type, otherwise it will return FALSE\n",
    "\n",
    "\n",
    "Here is the syntax of a Function in Python:\n",
    "\n",
    "```python\n",
    "def functionname( parameters ):\n",
    "    \"function_docstring\"\n",
    "    function_suite\n",
    "    return [expression]\n",
    "```"
   ],
   "metadata": {
    "collapsed": false,
    "pycharm": {
     "name": "#%% md\n"
    }
   }
  },
  {
   "cell_type": "markdown",
   "source": [
    "By default, parameters have a positional behavior and you need to inform them in the same order that they were defined.\n",
    "\n",
    "Here is an example of a function which takes a string as input parameter and prints it out:"
   ],
   "metadata": {
    "collapsed": false,
    "pycharm": {
     "name": "#%% md\n"
    }
   },
   "outputs": []
  },
  {
   "cell_type": "code",
   "execution_count": 56,
   "outputs": [],
   "source": [
    "def printme(str_data):\n",
    "    \"This prints a passed string into this function\"\n",
    "    print(str_data)\n",
    "    return"
   ],
   "metadata": {
    "collapsed": false,
    "pycharm": {
     "name": "#%%\n"
    }
   }
  },
  {
   "cell_type": "markdown",
   "source": [
    "#### <b>How do we call a Function?</b>\n",
    "\n",
    "Defining a function gives it a name, specifies the parameters that are to be included in the function, and structures the blocks of code. If we name a user-defined function identically to a Python built-in function, Python will default to the user-defined function.\n",
    "\n",
    "Once the basic structure of a function is finalized, you can execute it by calling it from another function or directly from the Python prompt.\n",
    "\n",
    "Here are some examples of calling the function **printme()** defined above:"
   ],
   "metadata": {
    "collapsed": false,
    "pycharm": {
     "name": "#%% md\n"
    }
   },
   "outputs": []
  },
  {
   "cell_type": "code",
   "execution_count": 57,
   "outputs": [
    {
     "name": "stdout",
     "output_type": "stream",
     "text": [
      "I'm the first call to a user defined function!\n",
      "Again second call to the same function\n"
     ]
    }
   ],
   "source": [
    "# Now you can call printme function\n",
    "printme(\"I'm the first call to a user defined function!\")\n",
    "printme(\"Again second call to the same function\")"
   ],
   "metadata": {
    "collapsed": false,
    "pycharm": {
     "name": "#%%\n"
    }
   }
  },
  {
   "cell_type": "markdown",
   "source": [
    "#### <b>Where can I find more information on Functions?</b>\n",
    "\n",
    "[Official python documentation on functions](https://docs.python.org/3.7/tutorial/controlflow.html#defining-functions)"
   ],
   "metadata": {
    "collapsed": false,
    "pycharm": {
     "name": "#%% md\n"
    }
   }
  },
  {
   "cell_type": "markdown",
   "source": [
    "<h1> Classes and Objects </h1>\n",
    "\n",
    "#### <b>What is a Python Class ?</b>\n",
    "\n",
    "A class is a user-defined blueprint or prototype from which objects are created.\n",
    "\n",
    "\n",
    "#### <b>Why do we use Classes?</b>\n",
    "\n",
    "Classes provide a means of bundling data and functionality together. Creating a new class creates a new type of object, allowing new instances of that type to be made. Each class instance can have attributes attached to it for maintaining its state. Class instances can also have methods (defined by its class) for modifying its state.\n",
    "\n",
    "To understand the need for creating a class, let’s consider an example. Let’s say you wanted to track the number of dogs which may have different attributes like breed and age. If a list is used, the first element could be the dog’s breed while the second element could represent its age. Let’s suppose there are 100 different dogs, then how would you know which element is supposed to be which? What if you wanted to add other properties to these dogs? This lacks organization and it demonstrates the need for classes.\n",
    "\n",
    "Class creates a user-defined data structure, which holds its own data members and member functions that can be accessed and used by creating an instance of that class. A class is like a blueprint for an object.\n",
    "\n",
    "#### <b>How do we create Classes?</b>\n",
    "\n",
    "Here are simple rules to create a class in Python:\n",
    " - Classes are created by keyword **class**.\n",
    " - Attributes are the variables that belong to class.\n",
    " - Attributes are always public and can be accessed using dot (.) operator. Eg.: Myclass.Myattribute\n",
    " - Attributes can be made not directly visible by adding a double underscore prefix to their name. Eg.: Myclass.__Hiddenattribute\n",
    "\n",
    "Here is the syntax of a class in Python:\n",
    "```python\n",
    "class ClassName:\n",
    "    # Statement-1\n",
    "    .\n",
    "    .\n",
    "    .\n",
    "    # Statement-N\n",
    "```\n",
    "\n",
    "In the following example, **class** keyword indicates that you are creating a class followed by the name of the class (Dog in this case)."
   ],
   "metadata": {
    "collapsed": false,
    "pycharm": {
     "name": "#%% md\n"
    }
   },
   "outputs": []
  },
  {
   "cell_type": "code",
   "execution_count": 58,
   "outputs": [
    {
     "name": "stdout",
     "output_type": "stream",
     "text": [
      "brown\n"
     ]
    }
   ],
   "source": [
    "class Dog:\n",
    "\n",
    "    # Class Variable\n",
    "    animal = 'dog'\n",
    "\n",
    "    # The init method or constructor\n",
    "    def __init__(self, breed):\n",
    "\n",
    "        # Instance Variable\n",
    "        self.breed = breed\n",
    "\n",
    "    # Adds an instance variable\n",
    "    def setColor(self, color):\n",
    "        self.color = color\n",
    "\n",
    "    # Retrieves instance variable\n",
    "    def getColor(self):\n",
    "        return self.color\n",
    "\n",
    "# Driver Code\n",
    "Rodger = Dog(\"pug\")\n",
    "Rodger.setColor(\"brown\")\n",
    "print(Rodger.getColor())"
   ],
   "metadata": {
    "collapsed": false,
    "pycharm": {
     "name": "#%%\n"
    }
   }
  },
  {
   "cell_type": "markdown",
   "source": [
    "\n",
    "The **__init__** method is a constructor. Constructors are used to initialize the object’s state. Like methods, a constructor also contains a collection of\n",
    "statements (i.e. instructions) that are executed at time of Object creation.\n",
    "It is run as soon as an object of a class is instantiated. The method is useful to do any initialization you want to do with your object.\n",
    "\n",
    "Often, the first argument of a method is called self. This is nothing more than a convention: the name self has absolutely no special meaning to Python.\n",
    "The **self** represents the instance of the class. By using the **self** keyword we can access the attributes and methods of the class in python.\n",
    "\n",
    "We do not give a value for this parameter when we call the method, Python provides it.\n",
    "If we have a method which takes no arguments, then we still have to have one argument.\n",
    "When we call a method of this object as **myobject.method(arg1, arg2)**, this is automatically converted by Python into **MyClass.method(myobject, arg1, arg2)**.\n",
    "This is what the special **self** is about."
   ],
   "metadata": {
    "collapsed": false,
    "pycharm": {
     "name": "#%% md\n"
    }
   }
  },
  {
   "cell_type": "markdown",
   "source": [
    "#### <b>What is a Python Object?</b>\n",
    "\n",
    "An Object is an instance of a Class.\n",
    "\n",
    "#### <b>Why do we use an Object?</b>\n",
    "\n",
    "A class is like a blueprint while an instance is a copy of the class with *actual values*.\n",
    "It’s not an idea anymore, it’s an actual dog, like a dog that has the breed of pug and is seven years old.\n",
    "You can have many dogs to create many different instances, but without the class as a guide, you would be lost, not knowing what information is required.\n",
    "\n",
    "An object consists of :\n",
    "\n",
    " - State : It is represented by attributes of an object. It also reflects the properties of an object.\n",
    " - Behavior : It is represented by methods of an object. It also reflects the response of an object with other objects.\n",
    " - Identity : It gives a unique name to an object and enables one object to interact with other objects.\n",
    "\n",
    "\n",
    "#### <b>How do we create Objects (Also called instantiating a class)?</b>\n",
    "\n",
    "When an object of a class is created, the class is said to be instantiated.\n",
    "All the instances share the attributes and the behavior of the class. But the values of those attributes, i.e. the states are unique for each object.\n",
    "A single class may have any number of instances.\n",
    "\n",
    "Instance variables are for data that is unique to each instance. Class variables are for attributes and methods shared by all instances of the class.\n",
    "Instance variables are variables whose value is assigned inside a constructor or method with **self** whereas class variables are variables whose value is assigned in the class.\n",
    "\n",
    "\n",
    "Here is an example:"
   ],
   "metadata": {
    "collapsed": false,
    "pycharm": {
     "name": "#%% md\n"
    }
   },
   "outputs": []
  },
  {
   "cell_type": "code",
   "execution_count": 61,
   "outputs": [
    {
     "name": "stdout",
     "output_type": "stream",
     "text": [
      "mammal\n",
      "I'm a mammal\n",
      "I'm a dog\n",
      "My name is Justin\n"
     ]
    }
   ],
   "source": [
    "class Dog:\n",
    "\n",
    "    # A simple class\n",
    "    # attribute\n",
    "    attr1 = \"mammal\"\n",
    "    attr2 = \"dog\"\n",
    "\n",
    "    # init method or constructor\n",
    "    def __init__(self, name):\n",
    "        self.name = name\n",
    "\n",
    "    # A sample method\n",
    "    def fun(self):\n",
    "        print(\"I'm a\", self.attr1)\n",
    "        print(\"I'm a\", self.attr2)\n",
    "        print(\"My name is\", self.name)\n",
    "\n",
    "# Driver code\n",
    "# Object instantiation\n",
    "first_dog = Dog('Justin')\n",
    "\n",
    "# Accessing class attributes\n",
    "# and method through objects\n",
    "print(first_dog.attr1)\n",
    "first_dog.fun()"
   ],
   "metadata": {
    "collapsed": false,
    "pycharm": {
     "name": "#%%\n"
    }
   }
  },
  {
   "cell_type": "markdown",
   "source": [
    "\n",
    "In the above example, an object (**first_dog**) is created which is basically a dog.\n",
    "This class only has two **class** attributes that tell us that first_dog is a dog and a mammal and one **instance** attribute that tells us that the dog is named Justin.\n",
    "\n",
    "#### <b>Where can I find more information on Classes and Objects?</b>\n",
    "\n",
    "[Official python documentation on classes and objects](https://docs.python.org/3.7/tutorial/classes.html)"
   ],
   "metadata": {
    "collapsed": false,
    "pycharm": {
     "name": "#%% md\n"
    }
   }
  }
 ],
 "metadata": {
  "kernelspec": {
   "display_name": "Python 3 (ipykernel)",
   "language": "python",
   "name": "python3"
  },
  "language_info": {
   "codemirror_mode": {
    "name": "ipython",
    "version": 3
   },
   "file_extension": ".py",
   "mimetype": "text/x-python",
   "name": "python",
   "nbconvert_exporter": "python",
   "pygments_lexer": "ipython3",
   "version": "3.11.3"
  },
  "varInspector": {
   "cols": {
    "lenName": 16,
    "lenType": 16,
    "lenVar": 40
   },
   "kernels_config": {
    "python": {
     "delete_cmd_postfix": "",
     "delete_cmd_prefix": "del ",
     "library": "var_list.py",
     "varRefreshCmd": "print(var_dic_list())"
    },
    "r": {
     "delete_cmd_postfix": ") ",
     "delete_cmd_prefix": "rm(",
     "library": "var_list.r",
     "varRefreshCmd": "cat(var_dic_list()) "
    }
   },
   "types_to_exclude": [
    "module",
    "function",
    "builtin_function_or_method",
    "instance",
    "_Feature"
   ],
   "window_display": false
  }
 },
 "nbformat": 4,
 "nbformat_minor": 2
}